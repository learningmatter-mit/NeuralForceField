{
 "cells": [
  {
   "cell_type": "code",
   "execution_count": 1,
   "metadata": {},
   "outputs": [],
   "source": [
    "%load_ext autoreload\n",
    "%autoreload 2"
   ]
  },
  {
   "cell_type": "markdown",
   "metadata": {},
   "source": [
    "# Running MD using uncertainty as the collective variable"
   ]
  },
  {
   "cell_type": "markdown",
   "metadata": {},
   "source": [
    "When training a NFF&mdash;either from scratch or using transfer learning from a foundation model&mdash;there may be some regions that are important for your system of interest that are insufficiently sampled. The high uncertainty in these regions can produce poor predictions from the NFF that need to be corrected with additional training data. Our group has pioneered several methods to identify structures with high uncertainty, primarily in the work of Aik Rui Tan on [adversarial attacks](https://www.nature.com/articles/s41467-021-25342-8) and methods of [uncertainty quantification (UQ)](https://www.nature.com/articles/s41524-023-01180-8).\n",
    "\n",
    "One method that Rui and Johannes Dietschreit developed was using [uncertainty in a model as a collective variable to bias MD simulations](https://pubs.aip.org/aip/jcp/article/162/3/034114/3331444) to generate high-uncertainty structures. This notebook shows how to use some of these tools in the NFF package to run these simulations. The notebook will show:\n",
    "\n",
    "1. How to fit [Gaussian mixture models (GMM)](https://scikit-learn.org/stable/modules/generated/sklearn.mixture.GaussianMixture.html#gaussianmixture) to an initial dataset and NN Potential to identify regions of high uncertainty\n",
    "2. How to use the GMM uncertainty and the initial model to run uncertainty-biased MD to generate new structures for active learning\n",
    "\n",
    "on a small dataset for a simple ammonia molecule. The GMMs are simply Gaussians fit to the embeddings of NFF model that show the latent space that the model has learned the best. By identifying the points in this latent space that have been sampled the most thoroughly, we can identify spaces where the model has higher epistemic uncertainty.\n",
    "\n",
    "The original paper focuses on a MACE model, but this notebook uses PaiNN. The authors have said that the Gaussian-accelerated MD eABF method is the best option for doing this enhanced sampling. While there are other methods that have calculators available that have been added to the NFF repo (namely, the `AdditiveBias` class), the authors suggest using the GaMD approach because it is fast and reliable."
   ]
  },
  {
   "cell_type": "code",
   "execution_count": 2,
   "metadata": {},
   "outputs": [
    {
     "data": {
      "application/vnd.jupyter.widget-view+json": {
       "model_id": "071c7c00ba714217be6142ab033cd086",
       "version_major": 2,
       "version_minor": 0
      },
      "text/plain": []
     },
     "metadata": {},
     "output_type": "display_data"
    },
    {
     "name": "stderr",
     "output_type": "stream",
     "text": [
      "/home/ajhoffman/miniforge3/envs/nff/lib/python3.9/site-packages/e3nn/o3/_wigner.py:10: FutureWarning: You are using `torch.load` with `weights_only=False` (the current default value), which uses the default pickle module implicitly. It is possible to construct malicious pickle data which will execute arbitrary code during unpickling (See https://github.com/pytorch/pytorch/blob/main/SECURITY.md#untrusted-models for more details). In a future release, the default value for `weights_only` will be flipped to `True`. This limits the functions that could be executed during unpickling. Arbitrary objects will no longer be allowed to be loaded via this mode unless they are explicitly allowlisted by the user via `torch.serialization.add_safe_globals`. We recommend you start setting `weights_only=True` for any use case where you don't have full control of the loaded file. Please open an issue on GitHub for any issues related to this experimental feature.\n",
      "  _Jd, _W3j_flat, _W3j_indices = torch.load(os.path.join(os.path.dirname(__file__), 'constants.pt'))\n"
     ]
    },
    {
     "name": "stdout",
     "output_type": "stream",
     "text": [
      "/home/ajhoffman/NeuralForceField/models\n"
     ]
    }
   ],
   "source": [
    "import os\n",
    "\n",
    "import matplotlib.pyplot as plt\n",
    "import nglview as nv\n",
    "import numpy as np\n",
    "import torch\n",
    "from ase import units\n",
    "from ase.io import read\n",
    "from ase.optimize import BFGS\n",
    "from torch.utils.data import DataLoader\n",
    "from tqdm import tqdm\n",
    "\n",
    "from nff.data import Dataset, collate_dicts, split_train_validation_test\n",
    "from nff.io.ase import AtomsBatch\n",
    "from nff.io.bias_calculators import aMDeABF\n",
    "from nff.md.colvars import ColVar\n",
    "from nff.md.nvt import Langevin\n",
    "from nff.md.utils import BiasedNeuralMDLogger\n",
    "from nff.train import load_model, loss\n",
    "from nff.train.evaluate import evaluate\n",
    "from nff.train.uncertainty import GMMUncertainty, get_unc_class\n",
    "\n",
    "plt.style.use(\"default\")"
   ]
  },
  {
   "cell_type": "markdown",
   "metadata": {},
   "source": [
    "# Fit the Gaussian mixture model"
   ]
  },
  {
   "cell_type": "markdown",
   "metadata": {},
   "source": [
    "In the first part of the tutorial, we will load a NN model (trained in the notebook `09_painn.ipynb` on a small dataset of DFT data for ethanol molecules) and fit the GMMs to this model and the data on which it's trained. This model will form the basis of the subsequent uncertainty analysis."
   ]
  },
  {
   "cell_type": "markdown",
   "metadata": {},
   "source": [
    "## Get the NN model and data"
   ]
  },
  {
   "cell_type": "code",
   "execution_count": 3,
   "metadata": {},
   "outputs": [],
   "source": [
    "model = load_model(\"models/cco_painn/best_model\")  # a PaiNN model"
   ]
  },
  {
   "cell_type": "code",
   "execution_count": 4,
   "metadata": {},
   "outputs": [],
   "source": [
    "dataset = Dataset.from_file(\"data/dataset.pth.tar\")\n",
    "# len(dataset)"
   ]
  },
  {
   "cell_type": "code",
   "execution_count": 5,
   "metadata": {},
   "outputs": [
    {
     "name": "stdout",
     "output_type": "stream",
     "text": [
      "Train size: 800, Val size: 100, Test size: 100\n"
     ]
    }
   ],
   "source": [
    "# split the dataset\n",
    "train, val, test = split_train_validation_test(dataset, val_size=0.1, test_size=0.1)\n",
    "print(f\"Train size: {len(train)}, Val size: {len(val)}, Test size: {len(test)}\")"
   ]
  },
  {
   "cell_type": "code",
   "execution_count": 6,
   "metadata": {},
   "outputs": [],
   "source": [
    "train_loader = DataLoader(train, batch_size=32, collate_fn=collate_dicts)\n",
    "val_loader = DataLoader(val, batch_size=32, collate_fn=collate_dicts)\n",
    "test_loader = DataLoader(test, batch_size=32, collate_fn=collate_dicts)"
   ]
  },
  {
   "cell_type": "code",
   "execution_count": 7,
   "metadata": {},
   "outputs": [],
   "source": [
    "loss_fn = loss.build_mse_loss(loss_coef={\"energy\": 0.1, \"energy_grad\": 1.0})"
   ]
  },
  {
   "cell_type": "markdown",
   "metadata": {},
   "source": [
    "## Fitting the GMMs manually"
   ]
  },
  {
   "cell_type": "markdown",
   "metadata": {},
   "source": [
    "This part of the notebook shows how the GMM is fitted to the embeddings of the model for each of the points in the training data. We use the pooled embeddings (the sum of the node embeddings for each structure) to fit the GMM."
   ]
  },
  {
   "cell_type": "code",
   "execution_count": null,
   "metadata": {},
   "outputs": [],
   "source": [
    "info_dict = {\n",
    "    \"name\": \"uncertainty\",\n",
    "    \"model_path\": \"models/cco_painn/best_model\",\n",
    "    \"model_type\": \"Painn\",\n",
    "    \"uncertainty_type\": \"gmm\",\n",
    "    \"uncertainty_params\": {\n",
    "        \"calibrate\": True,\n",
    "        \"cp_alpha\": 0.05,\n",
    "        \"n_components\": 5,\n",
    "        \"covariance_type\": \"full\",\n",
    "        \"type\": \"gmm\",\n",
    "        \"embedding_kwargs\": {\n",
    "            \"n_rff\": 1000,\n",
    "            \"learnable\": False,\n",
    "            \"n_hidden\": 2,\n",
    "            \"n_units\": 100,\n",
    "            \"activation\": \"swish\",\n",
    "            \"dropout\": 0.0,\n",
    "        },\n",
    "    },\n",
    "    \"device\": \"cpu\",\n",
    "    \"batch_size\": 32,\n",
    "    \"train_dset\": train_loader,\n",
    "    \"calib_dset\": val_loader,\n",
    "    \"test_dset\": test_loader,\n",
    "    \"loss_fn\": loss_fn,\n",
    "}"
   ]
  },
  {
   "cell_type": "code",
   "execution_count": 9,
   "metadata": {},
   "outputs": [
    {
     "name": "stderr",
     "output_type": "stream",
     "text": [
      "100%|██████████| 25/25 [00:02<00:00,  8.56it/s]\n"
     ]
    }
   ],
   "source": [
    "train_predicted, _train_targs, _loss = evaluate(\n",
    "    model=model,\n",
    "    loader=info_dict[\"train_dset\"],\n",
    "    loss_fn=info_dict[\"loss_fn\"],\n",
    "    device=info_dict[\"device\"],\n",
    "    requires_embedding=True,\n",
    "    pool_embeddings=True,\n",
    ")"
   ]
  },
  {
   "cell_type": "code",
   "execution_count": 10,
   "metadata": {},
   "outputs": [
    {
     "data": {
      "text/plain": [
       "torch.Size([800, 128])"
      ]
     },
     "execution_count": 10,
     "metadata": {},
     "output_type": "execute_result"
    }
   ],
   "source": [
    "train_embedding = torch.concat(train_predicted[\"embedding\"])\n",
    "train_embedding.shape"
   ]
  },
  {
   "cell_type": "code",
   "execution_count": 11,
   "metadata": {},
   "outputs": [],
   "source": [
    "unc_class = GMMUncertainty(**info_dict[\"uncertainty_params\"])\n",
    "unc_class.calibrate = True"
   ]
  },
  {
   "cell_type": "code",
   "execution_count": 12,
   "metadata": {},
   "outputs": [],
   "source": [
    "unc_class.fit_gmm(train_embedding)"
   ]
  },
  {
   "cell_type": "markdown",
   "metadata": {},
   "source": [
    "The benefit to doing this fitting manually is that we can take the points in the latent space&mdash;both those of the training data and the centers of the GMM&mdash;and plot them to show how they overlap with PCA. Unfortunately, it's a bit tricky to show the variance of the Gaussians with PCA, but we can show the means of each Gaussian."
   ]
  },
  {
   "cell_type": "code",
   "execution_count": 13,
   "metadata": {},
   "outputs": [
    {
     "data": {
      "image/png": "[encoded data removed]",
      "text/plain": [
       "<Figure size 400x400 with 1 Axes>"
      ]
     },
     "metadata": {},
     "output_type": "display_data"
    }
   ],
   "source": [
    "from sklearn.decomposition import PCA\n",
    "\n",
    "pca = PCA(n_components=2)\n",
    "pca.fit(train_embedding)\n",
    "pca_embedding = pca.transform(train_embedding)\n",
    "pca_gmm = pca.transform(unc_class.gm_model.means_)\n",
    "\n",
    "fig, ax = plt.subplots(figsize=(4, 4))\n",
    "\n",
    "ax.scatter(pca_embedding[:, 0], pca_embedding[:, 1], c=\"blue\", alpha=0.2, s=10)\n",
    "ax.scatter(pca_gmm[:, 0], pca_gmm[:, 1], c=\"red\", alpha=0.5, s=100)\n",
    "ax.set_xlabel(\"PCA 1\", fontweight=\"bold\")\n",
    "ax.set_ylabel(\"PCA 2\", fontweight=\"bold\")\n",
    "plt.show()"
   ]
  },
  {
   "cell_type": "markdown",
   "metadata": {},
   "source": [
    "## Doing it the easy way"
   ]
  },
  {
   "cell_type": "markdown",
   "metadata": {},
   "source": [
    "The steps above (well, except for the plotting) are all handled by the `get_unc_class` function:"
   ]
  },
  {
   "cell_type": "code",
   "execution_count": 32,
   "metadata": {},
   "outputs": [
    {
     "name": "stdout",
     "output_type": "stream",
     "text": [
      "GMM: Doing train prediction\n"
     ]
    },
    {
     "name": "stderr",
     "output_type": "stream",
     "text": [
      "100%|██████████| 25/25 [00:01<00:00, 12.57it/s]\n"
     ]
    },
    {
     "name": "stdout",
     "output_type": "stream",
     "text": [
      "COLVAR: Fitting GMM\n",
      "COLVAR: Fitting ConformalPrediction\n"
     ]
    },
    {
     "name": "stderr",
     "output_type": "stream",
     "text": [
      "100%|██████████| 4/4 [00:00<00:00, 11.82it/s]\n"
     ]
    },
    {
     "name": "stdout",
     "output_type": "stream",
     "text": [
      "dict_keys(['energy', 'energy_grad', 'features', 'embedding'])\n",
      "4\n",
      "torch.Size([288, 128])\n"
     ]
    },
    {
     "ename": "ValueError",
     "evalue": "only one element tensors can be converted to Python scalars",
     "output_type": "error",
     "traceback": [
      "\u001b[0;31m---------------------------------------------------------------------------\u001b[0m",
      "\u001b[0;31mValueError\u001b[0m                                Traceback (most recent call last)",
      "Cell \u001b[0;32mIn[32], line 1\u001b[0m\n\u001b[0;32m----> 1\u001b[0m unc \u001b[38;5;241m=\u001b[39m \u001b[43mget_unc_class\u001b[49m\u001b[43m(\u001b[49m\u001b[43mmodel\u001b[49m\u001b[43m,\u001b[49m\u001b[43m \u001b[49m\u001b[43minfo_dict\u001b[49m\u001b[43m)\u001b[49m\n",
      "File \u001b[0;32m~/NeuralForceField/nff/train/uncertainty.py:754\u001b[0m, in \u001b[0;36mget_unc_class\u001b[0;34m(model, info_dict)\u001b[0m\n\u001b[1;32m    751\u001b[0m \u001b[38;5;28mprint\u001b[39m(\u001b[38;5;28mlen\u001b[39m(calib_predicted[unc_class\u001b[38;5;241m.\u001b[39mtest_key]))\n\u001b[1;32m    752\u001b[0m \u001b[38;5;28mprint\u001b[39m(calib_predicted[unc_class\u001b[38;5;241m.\u001b[39mtest_key][\u001b[38;5;241m0\u001b[39m]\u001b[38;5;241m.\u001b[39mshape)\n\u001b[1;32m    753\u001b[0m calib_uncertainty \u001b[38;5;241m=\u001b[39m (\n\u001b[0;32m--> 754\u001b[0m     \u001b[43munc_class\u001b[49m\u001b[43m(\u001b[49m\n\u001b[1;32m    755\u001b[0m \u001b[43m        \u001b[49m\u001b[43mresults\u001b[49m\u001b[38;5;241;43m=\u001b[39;49m\u001b[43mcalib_predicted\u001b[49m\u001b[43m,\u001b[49m\n\u001b[1;32m    756\u001b[0m \u001b[43m        \u001b[49m\u001b[38;5;66;43;03m# count=calib_predicted[\"count\"],\u001b[39;49;00m\n\u001b[1;32m    757\u001b[0m \u001b[43m        \u001b[49m\u001b[38;5;66;43;03m# device=device,\u001b[39;49;00m\n\u001b[1;32m    758\u001b[0m \u001b[43m    \u001b[49m\u001b[43m)\u001b[49m\n\u001b[1;32m    759\u001b[0m     \u001b[38;5;241m.\u001b[39mdetach()\n\u001b[1;32m    760\u001b[0m     \u001b[38;5;241m.\u001b[39mcpu()\n\u001b[1;32m    761\u001b[0m )\n\u001b[1;32m    763\u001b[0m \u001b[38;5;66;03m# set minimum uncertainty to scale to\u001b[39;00m\n\u001b[1;32m    764\u001b[0m umin \u001b[38;5;241m=\u001b[39m calib_uncertainty\u001b[38;5;241m.\u001b[39mmin()\u001b[38;5;241m.\u001b[39mitem()\n",
      "File \u001b[0;32m~/NeuralForceField/nff/train/uncertainty.py:72\u001b[0m, in \u001b[0;36mUncertainty.__call__\u001b[0;34m(self, *args, **kwargs)\u001b[0m\n\u001b[1;32m     71\u001b[0m \u001b[38;5;28;01mdef\u001b[39;00m \u001b[38;5;21m__call__\u001b[39m(\u001b[38;5;28mself\u001b[39m, \u001b[38;5;241m*\u001b[39margs, \u001b[38;5;241m*\u001b[39m\u001b[38;5;241m*\u001b[39mkwargs):\n\u001b[0;32m---> 72\u001b[0m     \u001b[38;5;28;01mreturn\u001b[39;00m \u001b[38;5;28;43mself\u001b[39;49m\u001b[38;5;241;43m.\u001b[39;49m\u001b[43mget_uncertainty\u001b[49m\u001b[43m(\u001b[49m\u001b[38;5;241;43m*\u001b[39;49m\u001b[43margs\u001b[49m\u001b[43m,\u001b[49m\u001b[43m \u001b[49m\u001b[38;5;241;43m*\u001b[39;49m\u001b[38;5;241;43m*\u001b[39;49m\u001b[43mkwargs\u001b[49m\u001b[43m)\u001b[49m\n",
      "File \u001b[0;32m~/NeuralForceField/nff/train/uncertainty.py:655\u001b[0m, in \u001b[0;36mGMMUncertainty.get_uncertainty\u001b[0;34m(self, results, num_atoms, *args, **kwargs)\u001b[0m\n\u001b[1;32m    637\u001b[0m \u001b[38;5;28;01mdef\u001b[39;00m \u001b[38;5;21mget_uncertainty\u001b[39m(\n\u001b[1;32m    638\u001b[0m     \u001b[38;5;28mself\u001b[39m,\n\u001b[1;32m    639\u001b[0m     results: \u001b[38;5;28mdict\u001b[39m,\n\u001b[0;32m   (...)\u001b[0m\n\u001b[1;32m    642\u001b[0m     \u001b[38;5;241m*\u001b[39m\u001b[38;5;241m*\u001b[39mkwargs,\n\u001b[1;32m    643\u001b[0m ) \u001b[38;5;241m-\u001b[39m\u001b[38;5;241m>\u001b[39m torch\u001b[38;5;241m.\u001b[39mTensor:\n\u001b[1;32m    644\u001b[0m \u001b[38;5;250m    \u001b[39m\u001b[38;5;124;03m\"\"\"Get the uncertainty from the GMM model for the test embedding.\u001b[39;00m\n\u001b[1;32m    645\u001b[0m \n\u001b[1;32m    646\u001b[0m \u001b[38;5;124;03m    Args:\u001b[39;00m\n\u001b[0;32m   (...)\u001b[0m\n\u001b[1;32m    653\u001b[0m \u001b[38;5;124;03m        torch.Tensor: Uncertainty values.\u001b[39;00m\n\u001b[1;32m    654\u001b[0m \u001b[38;5;124;03m    \"\"\"\u001b[39;00m\n\u001b[0;32m--> 655\u001b[0m     test_embedding \u001b[38;5;241m=\u001b[39m \u001b[38;5;28;43mself\u001b[39;49m\u001b[38;5;241;43m.\u001b[39;49m\u001b[43m_check_tensor\u001b[49m\u001b[43m(\u001b[49m\u001b[43mresults\u001b[49m\u001b[43m[\u001b[49m\u001b[38;5;28;43mself\u001b[39;49m\u001b[38;5;241;43m.\u001b[39;49m\u001b[43mtest_key\u001b[49m\u001b[43m]\u001b[49m\u001b[43m)\u001b[49m\n\u001b[1;32m    657\u001b[0m     \u001b[38;5;28;01mif\u001b[39;00m \u001b[38;5;28mself\u001b[39m\u001b[38;5;241m.\u001b[39mis_fitted() \u001b[38;5;129;01mis\u001b[39;00m \u001b[38;5;28;01mFalse\u001b[39;00m:\n\u001b[1;32m    658\u001b[0m         train_embedding \u001b[38;5;241m=\u001b[39m \u001b[38;5;28mself\u001b[39m\u001b[38;5;241m.\u001b[39m_check_tensor(results[\u001b[38;5;28mself\u001b[39m\u001b[38;5;241m.\u001b[39mtrain_key])\n",
      "File \u001b[0;32m~/NeuralForceField/nff/train/uncertainty.py:567\u001b[0m, in \u001b[0;36mGMMUncertainty._check_tensor\u001b[0;34m(self, X)\u001b[0m\n\u001b[1;32m    565\u001b[0m \u001b[38;5;250m\u001b[39m\u001b[38;5;124;03m\"\"\"Check if the input is a tensor and convert to torch.Tensor if not.\"\"\"\u001b[39;00m\n\u001b[1;32m    566\u001b[0m \u001b[38;5;28;01mif\u001b[39;00m \u001b[38;5;129;01mnot\u001b[39;00m \u001b[38;5;28misinstance\u001b[39m(X, torch\u001b[38;5;241m.\u001b[39mTensor):\n\u001b[0;32m--> 567\u001b[0m     X \u001b[38;5;241m=\u001b[39m \u001b[43mtorch\u001b[49m\u001b[38;5;241;43m.\u001b[39;49m\u001b[43mtensor\u001b[49m\u001b[43m(\u001b[49m\u001b[43mX\u001b[49m\u001b[43m)\u001b[49m\n\u001b[1;32m    569\u001b[0m X \u001b[38;5;241m=\u001b[39m X\u001b[38;5;241m.\u001b[39msqueeze()\u001b[38;5;241m.\u001b[39mdouble()\u001b[38;5;241m.\u001b[39mto(\u001b[38;5;28mself\u001b[39m\u001b[38;5;241m.\u001b[39mdevice)\n\u001b[1;32m    571\u001b[0m \u001b[38;5;28;01mreturn\u001b[39;00m X\n",
      "\u001b[0;31mValueError\u001b[0m: only one element tensors can be converted to Python scalars"
     ]
    }
   ],
   "source": [
    "unc = get_unc_class(model, info_dict)"
   ]
  },
  {
   "cell_type": "markdown",
   "metadata": {},
   "source": [
    "# Running the dynamics"
   ]
  },
  {
   "cell_type": "code",
   "execution_count": 16,
   "metadata": {},
   "outputs": [
    {
     "name": "stderr",
     "output_type": "stream",
     "text": [
      "100%|██████████| 100/100 [00:00<00:00, 510.82it/s]\n"
     ]
    }
   ],
   "source": [
    "start_geom = val.as_atoms_batches()[0]"
   ]
  },
  {
   "cell_type": "code",
   "execution_count": 89,
   "metadata": {},
   "outputs": [
    {
     "data": {
      "text/plain": [
       "dict_keys(['nxyz', 'energy', 'energy_grad', 'smiles', 'num_atoms', 'nbr_list', 'charge', 'spin'])"
      ]
     },
     "execution_count": 89,
     "metadata": {},
     "output_type": "execute_result"
    }
   ],
   "source": [
    "test_loader.dataset.props.keys()"
   ]
  },
  {
   "cell_type": "code",
   "execution_count": 24,
   "metadata": {},
   "outputs": [
    {
     "ename": "NameError",
     "evalue": "name 'start_geom' is not defined",
     "output_type": "error",
     "traceback": [
      "\u001b[0;31m---------------------------------------------------------------------------\u001b[0m",
      "\u001b[0;31mNameError\u001b[0m                                 Traceback (most recent call last)",
      "Cell \u001b[0;32mIn[24], line 2\u001b[0m\n\u001b[1;32m      1\u001b[0m \u001b[38;5;66;03m# central dictionary for the ColVar class\u001b[39;00m\n\u001b[0;32m----> 2\u001b[0m atomlist \u001b[38;5;241m=\u001b[39m \u001b[38;5;28mlist\u001b[39m(\u001b[38;5;28mrange\u001b[39m(\u001b[38;5;28mlen\u001b[39m(\u001b[43mstart_geom\u001b[49m)))\n\u001b[1;32m      3\u001b[0m info_dict[\u001b[38;5;124m\"\u001b[39m\u001b[38;5;124mindex_list\u001b[39m\u001b[38;5;124m\"\u001b[39m] \u001b[38;5;241m=\u001b[39m atomlist  \u001b[38;5;66;03m# want to calculate the CV for all atoms\u001b[39;00m\n\u001b[1;32m      5\u001b[0m atoms \u001b[38;5;241m=\u001b[39m AtomsBatch\u001b[38;5;241m.\u001b[39mfrom_atoms(start_geom, directed\u001b[38;5;241m=\u001b[39m\u001b[38;5;28;01mTrue\u001b[39;00m)\n",
      "\u001b[0;31mNameError\u001b[0m: name 'start_geom' is not defined"
     ]
    }
   ],
   "source": [
    "# central dictionary for the ColVar class\n",
    "atomlist = list(range(len(start_geom)))\n",
    "info_dict[\"index_list\"] = atomlist  # want to calculate the CV for all atoms\n",
    "\n",
    "atoms = AtomsBatch.from_atoms(start_geom, directed=True)\n",
    "\n",
    "# use the distance of the scan for center of umbrella window\n",
    "CV = ColVar(info_dict)\n",
    "cv, cv_grad = CV(atoms)\n",
    "\n",
    "print(f\"Start value: {cv * 180 / np.pi} degrees = {cv} radians\")"
   ]
  },
  {
   "cell_type": "code",
   "execution_count": 65,
   "metadata": {},
   "outputs": [
    {
     "data": {
      "text/plain": [
       "41"
      ]
     },
     "execution_count": 65,
     "metadata": {},
     "output_type": "execute_result"
    }
   ],
   "source": [
    "min_val = -20000.0\n",
    "max_val = 20000.0\n",
    "dval = 1000.0  # step between minimizations\n",
    "targets = np.arange(min_val, max_val + dval, dval)\n",
    "len(targets)"
   ]
  },
  {
   "cell_type": "code",
   "execution_count": 66,
   "metadata": {},
   "outputs": [],
   "source": [
    "cv_info = {\n",
    "    \"barostat_mask\": 1,\n",
    "    \"bin_width\": 0.1,\n",
    "    \"collect_pot_samples\": True,\n",
    "    \"md_ensemble\": \"nvt\",\n",
    "    \"md_ensemble_params\": {\n",
    "        \"temperature\": 300,\n",
    "        \"timestep\": 1.0,\n",
    "        \"friction\": 0.1,\n",
    "    },\n",
    "    \"ext_mass\": 50.0,\n",
    "    \"ext_sigma\": 0.5,\n",
    "    \"ext_width\": 0.5,\n",
    "    \"factor\": {\n",
    "        \"ext_mass\": 1.0,\n",
    "        \"ext_sigma\": 0.9,\n",
    "        \"nsteps\": 1.2,\n",
    "        \"sampling_llim\": 0.9,\n",
    "        \"time_width\": 2.5,\n",
    "    },\n",
    "    \"nsteps\": 100,\n",
    "    \"save_dir\": \"uncertainty\",\n",
    "    \"sampling_method\": \"latent_embedding\",\n",
    "    \"sampling_llim\": 0.75,\n",
    "    \"sampling_llim_quantile\": 0.75,\n",
    "    \"samd_c0\": 0.0001,\n",
    "    \"T_init\": 300,\n",
    "    \"unphysical_emax\": 10000.0,\n",
    "    \"unphysical_emin\": -10000.0,\n",
    "    \"ext_pos\": None,\n",
    "}"
   ]
  },
  {
   "cell_type": "code",
   "execution_count": 68,
   "metadata": {},
   "outputs": [
    {
     "name": "stderr",
     "output_type": "stream",
     "text": [
      "  0%|          | 0/41 [00:00<?, ?it/s]"
     ]
    },
    {
     "name": "stdout",
     "output_type": "stream",
     "text": [
      "COLVAR: Doing train prediction\n"
     ]
    },
    {
     "name": "stderr",
     "output_type": "stream",
     "text": []
    },
    {
     "name": "stderr",
     "output_type": "stream",
     "text": [
      "100%|██████████| 25/25 [00:01<00:00, 14.92it/s]\n"
     ]
    },
    {
     "name": "stdout",
     "output_type": "stream",
     "text": [
      "COLVAR: Fitting GMM\n"
     ]
    },
    {
     "name": "stderr",
     "output_type": "stream",
     "text": [
      "  0%|          | 0/41 [00:03<?, ?it/s]\n"
     ]
    },
    {
     "ename": "IndexError",
     "evalue": "index 991911 is out of bounds for axis 0 with size 400000",
     "output_type": "error",
     "traceback": [
      "\u001b[0;31m---------------------------------------------------------------------------\u001b[0m",
      "\u001b[0;31mIndexError\u001b[0m                                Traceback (most recent call last)",
      "Cell \u001b[0;32mIn[68], line 42\u001b[0m\n\u001b[1;32m     38\u001b[0m atoms\u001b[38;5;241m.\u001b[39mset_calculator(calculator)\n\u001b[1;32m     40\u001b[0m dyn \u001b[38;5;241m=\u001b[39m BFGS(atoms)\n\u001b[0;32m---> 42\u001b[0m \u001b[43mdyn\u001b[49m\u001b[38;5;241;43m.\u001b[39;49m\u001b[43mrun\u001b[49m\u001b[43m(\u001b[49m\u001b[43mfmax\u001b[49m\u001b[38;5;241;43m=\u001b[39;49m\u001b[38;5;241;43m0.05\u001b[39;49m\u001b[43m,\u001b[49m\u001b[43m \u001b[49m\u001b[43msteps\u001b[49m\u001b[38;5;241;43m=\u001b[39;49m\u001b[38;5;241;43m20\u001b[39;49m\u001b[43m)\u001b[49m\n\u001b[1;32m     44\u001b[0m opt_traj\u001b[38;5;241m.\u001b[39mappend(atoms\u001b[38;5;241m.\u001b[39mcopy())\n\u001b[1;32m     45\u001b[0m opt_eners\u001b[38;5;241m.\u001b[39mappend(atoms\u001b[38;5;241m.\u001b[39mget_potential_energy())\n",
      "File \u001b[0;32m~/miniforge3/envs/nff/lib/python3.9/site-packages/ase/optimize/optimize.py:430\u001b[0m, in \u001b[0;36mOptimizer.run\u001b[0;34m(self, fmax, steps)\u001b[0m\n\u001b[1;32m    415\u001b[0m \u001b[38;5;250m\u001b[39m\u001b[38;5;124;03m\"\"\"Run optimizer.\u001b[39;00m\n\u001b[1;32m    416\u001b[0m \n\u001b[1;32m    417\u001b[0m \u001b[38;5;124;03mParameters\u001b[39;00m\n\u001b[0;32m   (...)\u001b[0m\n\u001b[1;32m    427\u001b[0m \u001b[38;5;124;03m    True if the forces on atoms are converged.\u001b[39;00m\n\u001b[1;32m    428\u001b[0m \u001b[38;5;124;03m\"\"\"\u001b[39;00m\n\u001b[1;32m    429\u001b[0m \u001b[38;5;28mself\u001b[39m\u001b[38;5;241m.\u001b[39mfmax \u001b[38;5;241m=\u001b[39m fmax\n\u001b[0;32m--> 430\u001b[0m \u001b[38;5;28;01mreturn\u001b[39;00m \u001b[43mDynamics\u001b[49m\u001b[38;5;241;43m.\u001b[39;49m\u001b[43mrun\u001b[49m\u001b[43m(\u001b[49m\u001b[38;5;28;43mself\u001b[39;49m\u001b[43m,\u001b[49m\u001b[43m \u001b[49m\u001b[43msteps\u001b[49m\u001b[38;5;241;43m=\u001b[39;49m\u001b[43msteps\u001b[49m\u001b[43m)\u001b[49m\n",
      "File \u001b[0;32m~/miniforge3/envs/nff/lib/python3.9/site-packages/ase/optimize/optimize.py:275\u001b[0m, in \u001b[0;36mDynamics.run\u001b[0;34m(self, steps)\u001b[0m\n\u001b[1;32m    257\u001b[0m \u001b[38;5;28;01mdef\u001b[39;00m \u001b[38;5;21mrun\u001b[39m(\u001b[38;5;28mself\u001b[39m, steps\u001b[38;5;241m=\u001b[39mDEFAULT_MAX_STEPS):\n\u001b[1;32m    258\u001b[0m \u001b[38;5;250m    \u001b[39m\u001b[38;5;124;03m\"\"\"Run dynamics algorithm.\u001b[39;00m\n\u001b[1;32m    259\u001b[0m \n\u001b[1;32m    260\u001b[0m \u001b[38;5;124;03m    This method will return when the forces on all individual\u001b[39;00m\n\u001b[0;32m   (...)\u001b[0m\n\u001b[1;32m    272\u001b[0m \u001b[38;5;124;03m        True if the forces on atoms are converged.\u001b[39;00m\n\u001b[1;32m    273\u001b[0m \u001b[38;5;124;03m    \"\"\"\u001b[39;00m\n\u001b[0;32m--> 275\u001b[0m     \u001b[38;5;28;01mfor\u001b[39;00m converged \u001b[38;5;129;01min\u001b[39;00m Dynamics\u001b[38;5;241m.\u001b[39mirun(\u001b[38;5;28mself\u001b[39m, steps\u001b[38;5;241m=\u001b[39msteps):\n\u001b[1;32m    276\u001b[0m         \u001b[38;5;28;01mpass\u001b[39;00m\n\u001b[1;32m    277\u001b[0m     \u001b[38;5;28;01mreturn\u001b[39;00m converged\n",
      "File \u001b[0;32m~/miniforge3/envs/nff/lib/python3.9/site-packages/ase/optimize/optimize.py:225\u001b[0m, in \u001b[0;36mDynamics.irun\u001b[0;34m(self, steps)\u001b[0m\n\u001b[1;32m    222\u001b[0m \u001b[38;5;28mself\u001b[39m\u001b[38;5;241m.\u001b[39mmax_steps \u001b[38;5;241m=\u001b[39m \u001b[38;5;28mself\u001b[39m\u001b[38;5;241m.\u001b[39mnsteps \u001b[38;5;241m+\u001b[39m steps\n\u001b[1;32m    224\u001b[0m \u001b[38;5;66;03m# compute the initial step\u001b[39;00m\n\u001b[0;32m--> 225\u001b[0m \u001b[38;5;28;43mself\u001b[39;49m\u001b[38;5;241;43m.\u001b[39;49m\u001b[43moptimizable\u001b[49m\u001b[38;5;241;43m.\u001b[39;49m\u001b[43mget_forces\u001b[49m\u001b[43m(\u001b[49m\u001b[43m)\u001b[49m\n\u001b[1;32m    227\u001b[0m \u001b[38;5;66;03m# log the initial step\u001b[39;00m\n\u001b[1;32m    228\u001b[0m \u001b[38;5;28;01mif\u001b[39;00m \u001b[38;5;28mself\u001b[39m\u001b[38;5;241m.\u001b[39mnsteps \u001b[38;5;241m==\u001b[39m \u001b[38;5;241m0\u001b[39m:\n",
      "File \u001b[0;32m~/miniforge3/envs/nff/lib/python3.9/site-packages/ase/optimize/optimize.py:34\u001b[0m, in \u001b[0;36mOptimizableAtoms.get_forces\u001b[0;34m(self)\u001b[0m\n\u001b[1;32m     33\u001b[0m \u001b[38;5;28;01mdef\u001b[39;00m \u001b[38;5;21mget_forces\u001b[39m(\u001b[38;5;28mself\u001b[39m):\n\u001b[0;32m---> 34\u001b[0m     \u001b[38;5;28;01mreturn\u001b[39;00m \u001b[38;5;28;43mself\u001b[39;49m\u001b[38;5;241;43m.\u001b[39;49m\u001b[43matoms\u001b[49m\u001b[38;5;241;43m.\u001b[39;49m\u001b[43mget_forces\u001b[49m\u001b[43m(\u001b[49m\u001b[43m)\u001b[49m\n",
      "File \u001b[0;32m~/miniforge3/envs/nff/lib/python3.9/site-packages/ase/atoms.py:812\u001b[0m, in \u001b[0;36mAtoms.get_forces\u001b[0;34m(self, apply_constraint, md)\u001b[0m\n\u001b[1;32m    810\u001b[0m \u001b[38;5;28;01mif\u001b[39;00m \u001b[38;5;28mself\u001b[39m\u001b[38;5;241m.\u001b[39m_calc \u001b[38;5;129;01mis\u001b[39;00m \u001b[38;5;28;01mNone\u001b[39;00m:\n\u001b[1;32m    811\u001b[0m     \u001b[38;5;28;01mraise\u001b[39;00m \u001b[38;5;167;01mRuntimeError\u001b[39;00m(\u001b[38;5;124m'\u001b[39m\u001b[38;5;124mAtoms object has no calculator.\u001b[39m\u001b[38;5;124m'\u001b[39m)\n\u001b[0;32m--> 812\u001b[0m forces \u001b[38;5;241m=\u001b[39m \u001b[38;5;28;43mself\u001b[39;49m\u001b[38;5;241;43m.\u001b[39;49m\u001b[43m_calc\u001b[49m\u001b[38;5;241;43m.\u001b[39;49m\u001b[43mget_forces\u001b[49m\u001b[43m(\u001b[49m\u001b[38;5;28;43mself\u001b[39;49m\u001b[43m)\u001b[49m\n\u001b[1;32m    814\u001b[0m \u001b[38;5;28;01mif\u001b[39;00m apply_constraint:\n\u001b[1;32m    815\u001b[0m     \u001b[38;5;66;03m# We need a special md flag here because for MD we want\u001b[39;00m\n\u001b[1;32m    816\u001b[0m     \u001b[38;5;66;03m# to skip real constraints but include special \"constraints\"\u001b[39;00m\n\u001b[1;32m    817\u001b[0m     \u001b[38;5;66;03m# Like Hookean.\u001b[39;00m\n\u001b[1;32m    818\u001b[0m     \u001b[38;5;28;01mfor\u001b[39;00m constraint \u001b[38;5;129;01min\u001b[39;00m \u001b[38;5;28mself\u001b[39m\u001b[38;5;241m.\u001b[39mconstraints:\n",
      "File \u001b[0;32m~/miniforge3/envs/nff/lib/python3.9/site-packages/ase/calculators/abc.py:30\u001b[0m, in \u001b[0;36mGetPropertiesMixin.get_forces\u001b[0;34m(self, atoms)\u001b[0m\n\u001b[1;32m     29\u001b[0m \u001b[38;5;28;01mdef\u001b[39;00m \u001b[38;5;21mget_forces\u001b[39m(\u001b[38;5;28mself\u001b[39m, atoms\u001b[38;5;241m=\u001b[39m\u001b[38;5;28;01mNone\u001b[39;00m):\n\u001b[0;32m---> 30\u001b[0m     \u001b[38;5;28;01mreturn\u001b[39;00m \u001b[38;5;28;43mself\u001b[39;49m\u001b[38;5;241;43m.\u001b[39;49m\u001b[43mget_property\u001b[49m\u001b[43m(\u001b[49m\u001b[38;5;124;43m'\u001b[39;49m\u001b[38;5;124;43mforces\u001b[39;49m\u001b[38;5;124;43m'\u001b[39;49m\u001b[43m,\u001b[49m\u001b[43m \u001b[49m\u001b[43matoms\u001b[49m\u001b[43m)\u001b[49m\n",
      "File \u001b[0;32m~/miniforge3/envs/nff/lib/python3.9/site-packages/ase/calculators/calculator.py:538\u001b[0m, in \u001b[0;36mBaseCalculator.get_property\u001b[0;34m(self, name, atoms, allow_calculation)\u001b[0m\n\u001b[1;32m    535\u001b[0m     \u001b[38;5;28;01mif\u001b[39;00m \u001b[38;5;28mself\u001b[39m\u001b[38;5;241m.\u001b[39muse_cache:\n\u001b[1;32m    536\u001b[0m         \u001b[38;5;28mself\u001b[39m\u001b[38;5;241m.\u001b[39matoms \u001b[38;5;241m=\u001b[39m atoms\u001b[38;5;241m.\u001b[39mcopy()\n\u001b[0;32m--> 538\u001b[0m     \u001b[38;5;28;43mself\u001b[39;49m\u001b[38;5;241;43m.\u001b[39;49m\u001b[43mcalculate\u001b[49m\u001b[43m(\u001b[49m\u001b[43matoms\u001b[49m\u001b[43m,\u001b[49m\u001b[43m \u001b[49m\u001b[43m[\u001b[49m\u001b[43mname\u001b[49m\u001b[43m]\u001b[49m\u001b[43m,\u001b[49m\u001b[43m \u001b[49m\u001b[43msystem_changes\u001b[49m\u001b[43m)\u001b[49m\n\u001b[1;32m    540\u001b[0m \u001b[38;5;28;01mif\u001b[39;00m name \u001b[38;5;129;01mnot\u001b[39;00m \u001b[38;5;129;01min\u001b[39;00m \u001b[38;5;28mself\u001b[39m\u001b[38;5;241m.\u001b[39mresults:\n\u001b[1;32m    541\u001b[0m     \u001b[38;5;66;03m# For some reason the calculator was not able to do what we want,\u001b[39;00m\n\u001b[1;32m    542\u001b[0m     \u001b[38;5;66;03m# and that is OK.\u001b[39;00m\n\u001b[1;32m    543\u001b[0m     \u001b[38;5;28;01mraise\u001b[39;00m PropertyNotImplementedError(\n\u001b[1;32m    544\u001b[0m         \u001b[38;5;124m'\u001b[39m\u001b[38;5;132;01m{}\u001b[39;00m\u001b[38;5;124m not present in this \u001b[39m\u001b[38;5;124m'\u001b[39m \u001b[38;5;124m'\u001b[39m\u001b[38;5;124mcalculation\u001b[39m\u001b[38;5;124m'\u001b[39m\u001b[38;5;241m.\u001b[39mformat(name)\n\u001b[1;32m    545\u001b[0m     )\n",
      "File \u001b[0;32m~/NeuralForceField/nff/io/bias_calculators.py:348\u001b[0m, in \u001b[0;36mBiasBase.calculate\u001b[0;34m(self, atoms, properties, system_changes)\u001b[0m\n\u001b[1;32m    336\u001b[0m     cv_dot_PES[ii] \u001b[38;5;241m=\u001b[39m np\u001b[38;5;241m.\u001b[39mdot(xi_grad\u001b[38;5;241m.\u001b[39mflatten(), model_grad\u001b[38;5;241m.\u001b[39mflatten())\n\u001b[1;32m    338\u001b[0m \u001b[38;5;28mself\u001b[39m\u001b[38;5;241m.\u001b[39mresults \u001b[38;5;241m=\u001b[39m {\n\u001b[1;32m    339\u001b[0m     \u001b[38;5;124m\"\u001b[39m\u001b[38;5;124menergy_unbiased\u001b[39m\u001b[38;5;124m\"\u001b[39m: model_energy\u001b[38;5;241m.\u001b[39mreshape(\u001b[38;5;241m-\u001b[39m\u001b[38;5;241m1\u001b[39m),\n\u001b[1;32m    340\u001b[0m     \u001b[38;5;124m\"\u001b[39m\u001b[38;5;124mforces_unbiased\u001b[39m\u001b[38;5;124m\"\u001b[39m: \u001b[38;5;241m-\u001b[39mmodel_grad\u001b[38;5;241m.\u001b[39mreshape(\u001b[38;5;241m-\u001b[39m\u001b[38;5;241m1\u001b[39m, \u001b[38;5;241m3\u001b[39m),\n\u001b[0;32m   (...)\u001b[0m\n\u001b[1;32m    345\u001b[0m     \u001b[38;5;124m\"\u001b[39m\u001b[38;5;124mcv_dot_PES\u001b[39m\u001b[38;5;124m\"\u001b[39m: cv_dot_PES,\n\u001b[1;32m    346\u001b[0m }\n\u001b[0;32m--> 348\u001b[0m bias_ener, bias_grad \u001b[38;5;241m=\u001b[39m \u001b[38;5;28;43mself\u001b[39;49m\u001b[38;5;241;43m.\u001b[39;49m\u001b[43mstep_bias\u001b[49m\u001b[43m(\u001b[49m\u001b[43mcvs\u001b[49m\u001b[43m,\u001b[49m\u001b[43m \u001b[49m\u001b[43mcv_grads\u001b[49m\u001b[43m)\u001b[49m\n\u001b[1;32m    349\u001b[0m energy \u001b[38;5;241m=\u001b[39m model_energy \u001b[38;5;241m+\u001b[39m bias_ener\n\u001b[1;32m    350\u001b[0m grad \u001b[38;5;241m=\u001b[39m model_grad \u001b[38;5;241m+\u001b[39m bias_grad\n",
      "File \u001b[0;32m~/NeuralForceField/nff/io/bias_calculators.py:701\u001b[0m, in \u001b[0;36maMDeABF.step_bias\u001b[0;34m(self, xi, grad_xi)\u001b[0m\n\u001b[1;32m    693\u001b[0m     bink \u001b[38;5;241m=\u001b[39m \u001b[38;5;28mself\u001b[39m\u001b[38;5;241m.\u001b[39mget_index(xi)\n\u001b[1;32m    694\u001b[0m     \u001b[38;5;66;03m# print(f\"xi: {xi}\")\u001b[39;00m\n\u001b[1;32m    695\u001b[0m     \u001b[38;5;66;03m# print(f\"bink: {bink}\")\u001b[39;00m\n\u001b[1;32m    696\u001b[0m     (\n\u001b[1;32m    697\u001b[0m         \u001b[38;5;28mself\u001b[39m\u001b[38;5;241m.\u001b[39mamd_c1[bink],\n\u001b[1;32m    698\u001b[0m         \u001b[38;5;28mself\u001b[39m\u001b[38;5;241m.\u001b[39mamd_m2[bink],\n\u001b[1;32m    699\u001b[0m         \u001b[38;5;28mself\u001b[39m\u001b[38;5;241m.\u001b[39mamd_c2[bink],\n\u001b[1;32m    700\u001b[0m     ) \u001b[38;5;241m=\u001b[39m welford_var(\n\u001b[0;32m--> 701\u001b[0m         \u001b[38;5;28;43mself\u001b[39;49m\u001b[38;5;241;43m.\u001b[39;49m\u001b[43mhistogram\u001b[49m\u001b[43m[\u001b[49m\u001b[43mbink\u001b[49m\u001b[43m]\u001b[49m,\n\u001b[1;32m    702\u001b[0m         \u001b[38;5;28mself\u001b[39m\u001b[38;5;241m.\u001b[39mamd_c1[bink],\n\u001b[1;32m    703\u001b[0m         \u001b[38;5;28mself\u001b[39m\u001b[38;5;241m.\u001b[39mamd_m2[bink],\n\u001b[1;32m    704\u001b[0m         boost_ener,\n\u001b[1;32m    705\u001b[0m     )\n\u001b[1;32m    707\u001b[0m \u001b[38;5;28mself\u001b[39m\u001b[38;5;241m.\u001b[39m_up_extvel()\n\u001b[1;32m    709\u001b[0m \u001b[38;5;28;01mreturn\u001b[39;00m bias_ener, bias_grad\n",
      "\u001b[0;31mIndexError\u001b[0m: index 991911 is out of bounds for axis 0 with size 400000"
     ]
    }
   ],
   "source": [
    "device = \"cpu\"\n",
    "\n",
    "opt_traj = []\n",
    "opt_eners = []\n",
    "\n",
    "for _target in tqdm(targets):\n",
    "    # this is a list for the class to enable multidimensional PMFs\n",
    "    # definition is the CV definition\n",
    "    # as we do a minimization, there is no CV range, we want to set a minimum value\n",
    "    # ext_k is the force constant in eV/(CV-unit)**2\n",
    "    cv_defs = [\n",
    "        {\n",
    "            \"definition\": info_dict,\n",
    "            \"range\": [min_val, max_val],\n",
    "            # \"ext_k\": 100.0,\n",
    "            \"type\": \"angle\",\n",
    "            **cv_info,\n",
    "        }\n",
    "    ]\n",
    "\n",
    "    # set the calculator, which is the BiasBase class\n",
    "    calculator = aMDeABF(\n",
    "        model=model,\n",
    "        cv_defs=cv_defs,\n",
    "        dt=0.0002,  # fs\n",
    "        friction_per_ps=1.0,\n",
    "        amd_parameter=0.01,\n",
    "        collect_pot_samples=True,\n",
    "        estimate_k=True,\n",
    "        apply_amd=True,\n",
    "        amd_method=\"gamd_upper\",\n",
    "        samd_c0=0.0001,\n",
    "        equil_temp=300,\n",
    "        nfull=20,\n",
    "        directed=True,\n",
    "        device=device,\n",
    "    )\n",
    "    atoms.set_calculator(calculator)\n",
    "\n",
    "    dyn = BFGS(atoms)\n",
    "\n",
    "    dyn.run(fmax=0.05, steps=20)\n",
    "\n",
    "    opt_traj.append(atoms.copy())\n",
    "    opt_eners.append(atoms.get_potential_energy())\n",
    "\n",
    "opt_eners = np.array(opt_eners)"
   ]
  },
  {
   "cell_type": "code",
   "execution_count": 56,
   "metadata": {},
   "outputs": [
    {
     "data": {
      "image/png": "[encoded data removed]",
      "text/plain": [
       "<Figure size 400x300 with 1 Axes>"
      ]
     },
     "metadata": {},
     "output_type": "display_data"
    }
   ],
   "source": [
    "fig, ax = plt.subplots(figsize=(4, 3), layout=\"tight\")\n",
    "\n",
    "ax.plot(targets, opt_eners * units.mol / units.kJ)\n",
    "\n",
    "ax.set_xlabel(r\"$\\varphi$ / radian\")\n",
    "ax.set_ylabel(r\"$E$ / kJ mol$^{-1}$\")\n",
    "\n",
    "fig.show()"
   ]
  },
  {
   "cell_type": "code",
   "execution_count": 61,
   "metadata": {},
   "outputs": [
    {
     "data": {
      "application/vnd.jupyter.widget-view+json": {
       "model_id": "506e757f9ab8484296275dfdda492b75",
       "version_major": 2,
       "version_minor": 0
      },
      "text/plain": [
       "NGLWidget()"
      ]
     },
     "metadata": {},
     "output_type": "display_data"
    }
   ],
   "source": [
    "from ase.io import Trajectory, write\n",
    "import tempfile\n",
    "\n",
    "tmpfile_path = \"bias_traj.xyz\"\n",
    "with open(tmpfile_path, \"w\") as tmpfile:\n",
    "    write(tmpfile, opt_traj, format=\"xyz\")\n",
    "\n",
    "# traj = Trajectory(tmpfile_path)\n",
    "# nv.show_asetraj(traj)\n",
    "view = nv.show_file(tmpfile_path)\n",
    "view.add_representation(\"ball+stick\")\n",
    "view"
   ]
  },
  {
   "cell_type": "markdown",
   "metadata": {},
   "source": [
    "# Another approach"
   ]
  },
  {
   "cell_type": "markdown",
   "metadata": {},
   "source": [
    "These tools also work with the MACE architecture. Since you are intentionally biasing the MD sampling to regions that have high uncertainty, it may be wise to use a foundation model&mdash;a potential that is pre-trained on a large dataset like [MPTraj]()&mdash;rather than, say, a potential that you are training from scratch and that might be more unstable and fail in these high uncertainty regions. The advantage to using a model like `PaiNN` is that it's very fast; `MACE-MP-0` is very stable, but training it and using it for inference can be very slow. This is not to dissuade you from using one over the other, but using `MACE-MP-0` for sampling and training `PaiNN` from scratch may be a very efficient way to create a potential for your task."
   ]
  }
 ],
 "metadata": {
  "kernelspec": {
   "display_name": "nff",
   "language": "python",
   "name": "python3"
  },
  "language_info": {
   "codemirror_mode": {
    "name": "ipython",
    "version": 3
   },
   "file_extension": ".py",
   "mimetype": "text/x-python",
   "name": "python",
   "nbconvert_exporter": "python",
   "pygments_lexer": "ipython3",
   "version": "3.9.18"
  }
 },
 "nbformat": 4,
 "nbformat_minor": 2
}
