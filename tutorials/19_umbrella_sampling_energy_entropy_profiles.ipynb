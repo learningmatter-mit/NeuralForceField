{
 "cells": [
  {
   "cell_type": "markdown",
   "id": "65f762f7",
   "metadata": {},
   "source": [
    "### This tutorial explains the steps followed to analyze the umbrella sampling results for Li/Na-ion transport in zeolites and obtaining the free energy, internal energy, and entropy profiles.\n",
    "\n",
    "\n",
    "#### Please install \n",
    "#### https://github.com/learningmatter-mit/NeuralForceField\n",
    "#### https://github.com/ochsenfeld-lab/adaptive_sampling"
   ]
  },
  {
   "cell_type": "markdown",
   "id": "62d0a9de",
   "metadata": {},
   "source": [
    "### Imports"
   ]
  },
  {
   "cell_type": "code",
   "execution_count": 1,
   "id": "38a0e4be",
   "metadata": {},
   "outputs": [],
   "source": [
    "path_to_adaptivesampling = \"/home/sdeep77/adaptive_sampling\" #update with your path"
   ]
  },
  {
   "cell_type": "code",
   "execution_count": 24,
   "id": "b7206dc9",
   "metadata": {},
   "outputs": [],
   "source": [
    "import os\n",
    "import sys\n",
    "sys.path.append(path_to_adaptivesampling)\n",
    "import numpy as np\n",
    "import pandas as pd\n",
    "import matplotlib.pyplot as plt\n",
    "from ase import Atoms\n",
    "from nff.train import load_model\n",
    "from ase import units\n",
    "from nff.io.ase import AtomsBatch\n",
    "from nff.io.ase_calcs import NeuralFF\n",
    "import shutil\n",
    "#sys.path.append(\"/home/sdeep77/htvs\")\n",
    "#sys.path.append(\"/home/sdeep77/htvs/djangochem\")\n",
    "import torch\n",
    "from torch.optim import Adam\n",
    "from torch.utils.data import DataLoader\n",
    "import time\n",
    "from datetime import datetime\n",
    "from torch.utils.data import DataLoader\n",
    "from sklearn.metrics import mean_absolute_error\n",
    "from nff.train.transfer import ChgnetLayerFreezer, MaceLayerFreezer\n",
    "from nff.data import Dataset, split_train_validation_test, collate_dicts,concatenate_dict\n",
    "from nff.train import Trainer, loss, hooks, metrics, evaluate\n",
    "from nff.nn.models.mace import NffScaleMACE\n",
    "from nff.nn.models.chgnet import CHGNetNFF\n",
    "from nff.utils.constants import EV_TO_KCAL_MOL, HARTREE_TO_KCAL_MOL, KCAL_TO_EV\n",
    "\n",
    "from nff.md.colvars import get_molecules, reconstruct_atoms\n",
    "from ase.io import Trajectory\n",
    "from ase.io import write, read, iread\n",
    "from ase.build import make_supercell\n",
    "#import nglview as nv\n",
    "from tqdm import tqdm\n",
    "from nff.md.nvt import Langevin\n",
    "from nff.md.colvars import ColVar\n",
    "from nff.io.bias_calculators import BiasBase\n",
    "from nff.md.utils import BiasedNeuralMDLogger\n",
    "from ase.optimize import BFGS\n",
    "from nff.opt.algos import NeuralAseBFGS\n",
    "device=0 #gpu_number or cpu\n",
    "\n"
   ]
  },
  {
   "cell_type": "code",
   "execution_count": 45,
   "id": "6926322f",
   "metadata": {},
   "outputs": [],
   "source": [
    "from adaptive_sampling.processing_tools import mbar\n",
    "from adaptive_sampling.processing_tools import utils\n",
    "from adaptive_sampling import units"
   ]
  },
  {
   "cell_type": "code",
   "execution_count": 4,
   "id": "a1797759",
   "metadata": {},
   "outputs": [],
   "source": [
    "# allow the use of LaTeX rendering and allow for serif\n",
    "#plt.rc(\"text\", usetex=True)\n",
    "plt.rc(\"font\", family=\"serif\")"
   ]
  },
  {
   "cell_type": "code",
   "execution_count": 7,
   "id": "666ab474",
   "metadata": {},
   "outputs": [
    {
     "name": "stdout",
     "output_type": "stream",
     "text": [
      "56\n",
      "[-6.75504153e+00 -6.50504153e+00 -6.25504153e+00 -6.00504153e+00\n",
      " -5.75504153e+00 -5.50504153e+00 -5.25504153e+00 -5.00504153e+00\n",
      " -4.75504153e+00 -4.50504153e+00 -4.25504153e+00 -4.00504153e+00\n",
      " -3.75504153e+00 -3.50504153e+00 -3.25504153e+00 -3.00504153e+00\n",
      " -2.75504153e+00 -2.50504153e+00 -2.25504153e+00 -2.00504153e+00\n",
      " -1.75504153e+00 -1.50504153e+00 -1.25504153e+00 -1.00504153e+00\n",
      " -7.55041534e-01 -5.05041534e-01 -2.55041534e-01 -5.04153425e-03\n",
      "  2.44958466e-01  4.94958466e-01  7.44958466e-01  9.94958466e-01\n",
      "  1.24495847e+00  1.49495847e+00  1.74495847e+00  1.99495847e+00\n",
      "  2.24495847e+00  2.49495847e+00  2.74495847e+00  2.99495847e+00\n",
      "  3.24495847e+00  3.49495847e+00  3.74495847e+00  3.99495847e+00\n",
      "  4.24495847e+00  4.49495847e+00  4.74495847e+00  4.99495847e+00\n",
      "  5.24495847e+00  5.49495847e+00  5.74495847e+00  5.99495847e+00\n",
      "  6.24495847e+00  6.49495847e+00  6.74495847e+00  6.99495847e+00]\n"
     ]
    }
   ],
   "source": [
    "# the cv is in distance (Å)\n",
    "min_val = -6.755041534253298 #-6.884143395590701 #as determined during the neural scan (See umbrella_sampling_scanning.py) \n",
    "max_val = -min_val\n",
    "dval = 0.25#0.1  # step between minimizations\n",
    "targets = np.arange(min_val, max_val+dval, dval) #use max_val+dval when max_val is not already set as max_val+dval\n",
    "print(len(targets))\n",
    "print(targets)\n",
    "\n"
   ]
  },
  {
   "cell_type": "markdown",
   "id": "2b041f60",
   "metadata": {},
   "source": [
    "### Umbrella sampling analysis"
   ]
  },
  {
   "cell_type": "code",
   "execution_count": 9,
   "id": "60bbd773",
   "metadata": {},
   "outputs": [
    {
     "name": "stdout",
     "output_type": "stream",
     "text": [
      "0 -6.755041534253298\n",
      "1 -6.505041534253298\n",
      "2 -6.255041534253298\n",
      "3 -6.005041534253298\n",
      "4 -5.755041534253298\n",
      "5 -5.505041534253298\n",
      "6 -5.255041534253298\n",
      "7 -5.005041534253298\n",
      "8 -4.755041534253298\n",
      "9 -4.505041534253298\n",
      "10 -4.255041534253298\n",
      "11 -4.005041534253298\n",
      "12 -3.755041534253298\n",
      "13 -3.505041534253298\n",
      "14 -3.255041534253298\n",
      "15 -3.005041534253298\n",
      "16 -2.755041534253298\n",
      "17 -2.505041534253298\n",
      "18 -2.255041534253298\n",
      "19 -2.005041534253298\n",
      "20 -1.755041534253298\n",
      "21 -1.505041534253298\n",
      "22 -1.255041534253298\n",
      "23 -1.005041534253298\n",
      "24 -0.7550415342532979\n",
      "25 -0.5050415342532979\n",
      "26 -0.2550415342532979\n",
      "27 -0.005041534253297897\n",
      "28 0.2449584657467021\n",
      "29 0.4949584657467021\n",
      "30 0.7449584657467021\n",
      "31 0.9949584657467021\n",
      "32 1.244958465746702\n",
      "33 1.494958465746702\n",
      "34 1.744958465746702\n",
      "35 1.994958465746702\n",
      "36 2.244958465746702\n",
      "37 2.494958465746702\n",
      "38 2.744958465746702\n",
      "39 2.994958465746702\n",
      "40 3.244958465746702\n",
      "41 3.494958465746702\n",
      "42 3.744958465746702\n",
      "43 3.994958465746702\n",
      "44 4.244958465746702\n",
      "45 4.494958465746702\n",
      "46 4.744958465746702\n",
      "47 4.994958465746702\n",
      "48 5.244958465746702\n",
      "49 5.494958465746702\n",
      "50 5.744958465746702\n",
      "51 5.994958465746702\n",
      "52 6.244958465746702\n",
      "53 6.494958465746702\n",
      "54 6.744958465746702\n",
      "55 6.994958465746702\n",
      "56\n",
      "(2193462, 9)\n"
     ]
    }
   ],
   "source": [
    "trajs = []\n",
    "com_ext=[]\n",
    "valid_targets_x=[]\n",
    "pot_eners=[] #system potential energy \n",
    "time_steps=[]\n",
    "temp=[]#can be obtained from window.log file\n",
    "\n",
    "for ii, target in enumerate(targets):\n",
    "    #truncated_target = f\"{target:.10f}\" #if there is mismatch in exact decimal value \n",
    "    try:\n",
    "        data = np.genfromtxt(\n",
    "        f\"/data/grp_storage/sauradeep/jan29_umb_1ns/completed/us_zeo_450_window_{target}/us_zeo_450_window_{target}/window_ext.log\",\n",
    "        skip_header=1)\n",
    "        traj=data[:, 4]\n",
    "        time_step=data[:,0]\n",
    "        pot_ener=data[:,2]\n",
    "        \n",
    "        #deleting indices that are not needed \n",
    "        indices_del = []\n",
    "        for t in range(len(traj)):\n",
    "            if traj[t] < min_val - dval or traj[t] > max_val + dval or time_step[t]<=2 or time_step[t]>800 or np.isnan(traj[t]) or np.isnan(pot_ener[t]): #(discard first 2ps  as equilibration) \n",
    "            #for 0 h2o system 600ps per window was carried out since no. of windows were much more\n",
    "                indices_del.append(t)\n",
    "                #print(\"Deleting the following index:\", t)\n",
    "    \n",
    "    # Converting the list of indices to a set for faster lookup\n",
    "        indices_del = set(indices_del)\n",
    "    \n",
    "    # Creating new arrays excluding the elements to be deleted\n",
    "        traj = np.array([traj[t] for t in range(len(traj)) if t not in indices_del])\n",
    "        filtered_data = np.array([data[t] for t in range(len(data)) if t not in indices_del])\n",
    "        pot_ener=np.array([pot_ener[t] for t in range(len(pot_ener)) if t not in indices_del])\n",
    "        time_step=np.array([time_step[t] for t in range(len(time_step)) if t not in indices_del])\n",
    "        \n",
    "        if traj.size == 0 or filtered_data.size == 0:\n",
    "            print(f\"Skipping target {target} as filtered trajectory is empty.\")\n",
    "            continue\n",
    "\n",
    "        trajs.append(traj)\n",
    "        com_ext.append(filtered_data)\n",
    "        valid_targets_x.append(target)\n",
    "        pot_eners.append(pot_ener)\n",
    "        time_steps.append(time_step)\n",
    "    \n",
    "        print(ii,target)\n",
    "    except Exception as e:\n",
    "        print(e)\n",
    "\n",
    "\n",
    "# The targets can also be read from the log files\n",
    "meta_f = np.zeros(shape=(len(valid_targets_x), 3))\n",
    "meta_f[:, 1] = valid_targets_x\n",
    "# since we used ext_sigma and not ext_k, we need to calculate the k\n",
    "# k = (RT)/(sigma**2)\n",
    "meta_f[:, 2] = (8.314 * 450.0 / 1000.0) / ((dval/1.5)**2)#update ext_sigma according to the particular simulation (for eg, dval or dval/2...)\n",
    "\n",
    "all_frames = trajs[0]\n",
    "for traj in trajs[1:]:\n",
    "    all_frames = np.concatenate((all_frames, traj))\n",
    "\n",
    "#all_frames = np.concatenate(trajs, axis=0)\n",
    "\n",
    "com_ext = np.vstack(com_ext)\n",
    "print(len(trajs))\n",
    "print(com_ext[:].shape)\n",
    "#print(meta_f.shape)\n"
   ]
  },
  {
   "cell_type": "code",
   "execution_count": 10,
   "id": "59df2bf5",
   "metadata": {},
   "outputs": [
    {
     "data": {
      "text/plain": [
       "0"
      ]
     },
     "execution_count": 10,
     "metadata": {},
     "output_type": "execute_result"
    }
   ],
   "source": [
    "np.isnan(com_ext).sum()"
   ]
  },
  {
   "cell_type": "code",
   "execution_count": 11,
   "id": "03619844",
   "metadata": {},
   "outputs": [
    {
     "data": {
      "text/plain": [
       "0"
      ]
     },
     "execution_count": 11,
     "metadata": {},
     "output_type": "execute_result"
    }
   ],
   "source": [
    "np.isnan(all_frames).sum()"
   ]
  },
  {
   "cell_type": "code",
   "execution_count": 12,
   "id": "92ef4584",
   "metadata": {},
   "outputs": [
    {
     "name": "stdout",
     "output_type": "stream",
     "text": [
      "56\n"
     ]
    }
   ],
   "source": [
    "print(len(valid_targets_x))"
   ]
  },
  {
   "cell_type": "code",
   "execution_count": 17,
   "id": "50844ebb",
   "metadata": {},
   "outputs": [
    {
     "data": {
      "text/plain": [
       "(39900,)"
      ]
     },
     "execution_count": 17,
     "metadata": {},
     "output_type": "execute_result"
    }
   ],
   "source": [
    "time_steps[28].shape"
   ]
  },
  {
   "cell_type": "code",
   "execution_count": 18,
   "id": "3ccc6a59",
   "metadata": {},
   "outputs": [
    {
     "data": {
      "text/plain": [
       "Text(0, 0.5, 'System energy/kJ mol$^{-1}$ ')"
      ]
     },
     "execution_count": 18,
     "metadata": {},
     "output_type": "execute_result"
    },
    {
     "data": {
      "image/png": "[encoded data removed]",
      "text/plain": [
       "<Figure size 432x288 with 1 Axes>"
      ]
     },
     "metadata": {
      "needs_background": "light"
     },
     "output_type": "display_data"
    }
   ],
   "source": [
    "plt.plot(time_steps[29],pot_eners[29]/96.48531)\n",
    "plt.xlabel('Timestep/ps', fontsize=15)\n",
    "plt.ylabel('System energy/kJ mol$^{-1}$ ', fontsize=15)\n"
   ]
  },
  {
   "cell_type": "code",
   "execution_count": 19,
   "id": "8da934dc",
   "metadata": {},
   "outputs": [
    {
     "data": {
      "text/plain": [
       "(2193462,)"
      ]
     },
     "execution_count": 19,
     "metadata": {},
     "output_type": "execute_result"
    }
   ],
   "source": [
    "all_frames.shape#for CV in x direction"
   ]
  },
  {
   "cell_type": "code",
   "execution_count": 20,
   "id": "3ca7aaf1",
   "metadata": {},
   "outputs": [
    {
     "data": {
      "text/plain": [
       "array([-6.6471, -6.5102, -6.4615, ...,  6.9722,  6.9808,  6.9544])"
      ]
     },
     "execution_count": 20,
     "metadata": {},
     "output_type": "execute_result"
    }
   ],
   "source": [
    "all_frames"
   ]
  },
  {
   "cell_type": "code",
   "execution_count": 21,
   "id": "2cac9de7",
   "metadata": {},
   "outputs": [
    {
     "name": "stdout",
     "output_type": "stream",
     "text": [
      "56\n",
      "(56, 3)\n",
      "[[ 0.00000000e+00 -6.75504153e+00  1.34686800e+02]\n",
      " [ 0.00000000e+00 -6.50504153e+00  1.34686800e+02]\n",
      " [ 0.00000000e+00 -6.25504153e+00  1.34686800e+02]\n",
      " [ 0.00000000e+00 -6.00504153e+00  1.34686800e+02]\n",
      " [ 0.00000000e+00 -5.75504153e+00  1.34686800e+02]\n",
      " [ 0.00000000e+00 -5.50504153e+00  1.34686800e+02]\n",
      " [ 0.00000000e+00 -5.25504153e+00  1.34686800e+02]\n",
      " [ 0.00000000e+00 -5.00504153e+00  1.34686800e+02]\n",
      " [ 0.00000000e+00 -4.75504153e+00  1.34686800e+02]\n",
      " [ 0.00000000e+00 -4.50504153e+00  1.34686800e+02]\n",
      " [ 0.00000000e+00 -4.25504153e+00  1.34686800e+02]\n",
      " [ 0.00000000e+00 -4.00504153e+00  1.34686800e+02]\n",
      " [ 0.00000000e+00 -3.75504153e+00  1.34686800e+02]\n",
      " [ 0.00000000e+00 -3.50504153e+00  1.34686800e+02]\n",
      " [ 0.00000000e+00 -3.25504153e+00  1.34686800e+02]\n",
      " [ 0.00000000e+00 -3.00504153e+00  1.34686800e+02]\n",
      " [ 0.00000000e+00 -2.75504153e+00  1.34686800e+02]\n",
      " [ 0.00000000e+00 -2.50504153e+00  1.34686800e+02]\n",
      " [ 0.00000000e+00 -2.25504153e+00  1.34686800e+02]\n",
      " [ 0.00000000e+00 -2.00504153e+00  1.34686800e+02]\n",
      " [ 0.00000000e+00 -1.75504153e+00  1.34686800e+02]\n",
      " [ 0.00000000e+00 -1.50504153e+00  1.34686800e+02]\n",
      " [ 0.00000000e+00 -1.25504153e+00  1.34686800e+02]\n",
      " [ 0.00000000e+00 -1.00504153e+00  1.34686800e+02]\n",
      " [ 0.00000000e+00 -7.55041534e-01  1.34686800e+02]\n",
      " [ 0.00000000e+00 -5.05041534e-01  1.34686800e+02]\n",
      " [ 0.00000000e+00 -2.55041534e-01  1.34686800e+02]\n",
      " [ 0.00000000e+00 -5.04153425e-03  1.34686800e+02]\n",
      " [ 0.00000000e+00  2.44958466e-01  1.34686800e+02]\n",
      " [ 0.00000000e+00  4.94958466e-01  1.34686800e+02]\n",
      " [ 0.00000000e+00  7.44958466e-01  1.34686800e+02]\n",
      " [ 0.00000000e+00  9.94958466e-01  1.34686800e+02]\n",
      " [ 0.00000000e+00  1.24495847e+00  1.34686800e+02]\n",
      " [ 0.00000000e+00  1.49495847e+00  1.34686800e+02]\n",
      " [ 0.00000000e+00  1.74495847e+00  1.34686800e+02]\n",
      " [ 0.00000000e+00  1.99495847e+00  1.34686800e+02]\n",
      " [ 0.00000000e+00  2.24495847e+00  1.34686800e+02]\n",
      " [ 0.00000000e+00  2.49495847e+00  1.34686800e+02]\n",
      " [ 0.00000000e+00  2.74495847e+00  1.34686800e+02]\n",
      " [ 0.00000000e+00  2.99495847e+00  1.34686800e+02]\n",
      " [ 0.00000000e+00  3.24495847e+00  1.34686800e+02]\n",
      " [ 0.00000000e+00  3.49495847e+00  1.34686800e+02]\n",
      " [ 0.00000000e+00  3.74495847e+00  1.34686800e+02]\n",
      " [ 0.00000000e+00  3.99495847e+00  1.34686800e+02]\n",
      " [ 0.00000000e+00  4.24495847e+00  1.34686800e+02]\n",
      " [ 0.00000000e+00  4.49495847e+00  1.34686800e+02]\n",
      " [ 0.00000000e+00  4.74495847e+00  1.34686800e+02]\n",
      " [ 0.00000000e+00  4.99495847e+00  1.34686800e+02]\n",
      " [ 0.00000000e+00  5.24495847e+00  1.34686800e+02]\n",
      " [ 0.00000000e+00  5.49495847e+00  1.34686800e+02]\n",
      " [ 0.00000000e+00  5.74495847e+00  1.34686800e+02]\n",
      " [ 0.00000000e+00  5.99495847e+00  1.34686800e+02]\n",
      " [ 0.00000000e+00  6.24495847e+00  1.34686800e+02]\n",
      " [ 0.00000000e+00  6.49495847e+00  1.34686800e+02]\n",
      " [ 0.00000000e+00  6.74495847e+00  1.34686800e+02]\n",
      " [ 0.00000000e+00  6.99495847e+00  1.34686800e+02]]\n"
     ]
    }
   ],
   "source": [
    "#print(all_frames)\n",
    "print((len(trajs)))\n",
    "print(meta_f.shape)\n",
    "print(meta_f)"
   ]
  },
  {
   "cell_type": "code",
   "execution_count": 22,
   "id": "84cca083",
   "metadata": {},
   "outputs": [
    {
     "data": {
      "image/png": "[encoded data removed]",
      "text/plain": [
       "<Figure size 432x288 with 1 Axes>"
      ]
     },
     "metadata": {
      "needs_background": "light"
     },
     "output_type": "display_data"
    }
   ],
   "source": [
    "fig, ax = plt.subplots(1, sharex=True)\n",
    "\n",
    "for traj, target in zip(trajs, valid_targets_x):\n",
    "    ax.hist(traj, alpha=0.5, bins=50)\n",
    "\n",
    "ax.spines['bottom'].set_linewidth(3)\n",
    "ax.spines['top'].set_linewidth(3)\n",
    "ax.spines['left'].set_linewidth(3)\n",
    "ax.spines['right'].set_linewidth(3)\n",
    "ax.tick_params(axis='y', length=6, width=3,\n",
    "               labelsize=20, pad=10, direction='in')\n",
    "ax.tick_params(axis='x', length=6, width=3,\n",
    "               labelsize=20, pad=10, direction='in')\n",
    "\n",
    "ax.set_ylabel(r'$\\mathrm{Density}$', fontsize=20)\n",
    "#ax.set_xlabel(r'CV', fontsize=20)\n",
    "ax.set_xlabel(r'$\\mathrm{z}\\ (\\mathrm{\\AA})$', fontsize=20)\n",
    "#axs.set_ylabel(r'$A(z)$ (kJ mol$^{-1})$', fontsize=20)\n",
    "#ax.set_xlabel(r'$\\mathrm{z}\\ (\\mathrm{\\AA})$', fontsize=20)\n",
    "#ax.set_xlabel(r'$\\varphi$ / radian', fontsize=35)\n",
    "\n",
    "#plt.savefig('/home/sdeep77/NeuralForceField/article_plots_0h2o_1li/umbrella_density_0h2o_1li.png', bbox_inches='tight',dpi=600)\n",
    "plt.tight_layout()\n",
    "plt.show()"
   ]
  },
  {
   "cell_type": "code",
   "execution_count": 25,
   "id": "49d2ecec",
   "metadata": {},
   "outputs": [
    {
     "name": "stdout",
     "output_type": "stream",
     "text": [
      "tensor([1.6313e-05, 1.5314e-05, 1.5209e-05,  ..., 4.1999e-05, 4.3527e-05,\n",
      "        3.9108e-05], device='cuda:0', dtype=torch.float64)\n",
      "Start of the self-consistent iteration.\n",
      "========================================================================\n",
      "Iter    1:\tConv=  0.5667133983\tConv_errvec=  11256.037839\n",
      "Iter  100:\tConv=  0.0115862501\tConv_errvec=    234.257049\n",
      "Iter  200:\tConv=  0.0045291477\tConv_errvec=     94.304411\n",
      "Iter  300:\tConv=  0.0037287545\tConv_errvec=     77.524431\n",
      "Iter  400:\tConv=  0.0033137954\tConv_errvec=     67.090148\n",
      "Iter  500:\tConv=  0.0028904533\tConv_errvec=     57.935058\n",
      "Iter  600:\tConv=  0.0025067509\tConv_errvec=     49.966466\n",
      "Iter  700:\tConv=  0.0021700755\tConv_errvec=     43.108881\n",
      "Iter  800:\tConv=  0.0018775530\tConv_errvec=     37.218503\n",
      "Iter  900:\tConv=  0.0016241731\tConv_errvec=     32.152636\n",
      "Iter 1000:\tConv=  0.0014049110\tConv_errvec=     27.788639\n",
      "Iter 1100:\tConv=  0.0012152310\tConv_errvec=     24.024193\n",
      "Iter 1200:\tConv=  0.0010511576\tConv_errvec=     20.773820\n",
      "Iter 1300:\tConv=  0.0009092379\tConv_errvec=     17.965512\n",
      "Iter 1400:\tConv=  0.0007864812\tConv_errvec=     15.538127\n",
      "Iter 1500:\tConv=  0.0006802998\tConv_errvec=     13.439424\n",
      "Iter 1600:\tConv=  0.0005884554\tConv_errvec=     11.624580\n",
      "Iter 1700:\tConv=  0.0005090117\tConv_errvec=     10.055026\n",
      "Iter 1800:\tConv=  0.0004402942\tConv_errvec=      8.697511\n",
      "Iter 1900:\tConv=  0.0003808544\tConv_errvec=      7.523338\n",
      "Iter 2000:\tConv=  0.0003294395\tConv_errvec=      6.507715\n",
      "Iter 2100:\tConv=  0.0002849660\tConv_errvec=      5.629216\n",
      "Iter 2200:\tConv=  0.0002464966\tConv_errvec=      4.869319\n",
      "Iter 2300:\tConv=  0.0002132207\tConv_errvec=      4.212008\n",
      "Iter 2400:\tConv=  0.0001844370\tConv_errvec=      3.643429\n",
      "Iter 2500:\tConv=  0.0001595391\tConv_errvec=      3.151605\n",
      "Iter 2600:\tConv=  0.0001380024\tConv_errvec=      2.726173\n",
      "Iter 2700:\tConv=  0.0001193731\tConv_errvec=      2.358169\n",
      "Iter 2800:\tConv=  0.0001032586\tConv_errvec=      2.039842\n",
      "Iter 2900:\tConv=  0.0000893196\tConv_errvec=      1.764486\n",
      "Iter 3000:\tConv=  0.0000772622\tConv_errvec=      1.526300\n",
      "Iter 3100:\tConv=  0.0000668324\tConv_errvec=      1.320266\n",
      "Iter 3200:\tConv=  0.0000578107\tConv_errvec=      1.142045\n",
      "Iter 3300:\tConv=  0.0000500068\tConv_errvec=      0.987881\n",
      "Iter 3400:\tConv=  0.0000432563\tConv_errvec=      0.854528\n",
      "Iter 3500:\tConv=  0.0000374171\tConv_errvec=      0.739176\n",
      "Iter 3600:\tConv=  0.0000323662\tConv_errvec=      0.639395\n",
      "Iter 3700:\tConv=  0.0000279971\tConv_errvec=      0.553084\n",
      "Iter 3800:\tConv=  0.0000242177\tConv_errvec=      0.478423\n",
      "Iter 3900:\tConv=  0.0000209486\tConv_errvec=      0.413841\n",
      "Iter 4000:\tConv=  0.0000181207\tConv_errvec=      0.357977\n",
      "Iter 4100:\tConv=  0.0000156746\tConv_errvec=      0.309654\n",
      "Iter 4200:\tConv=  0.0000135587\tConv_errvec=      0.267854\n",
      "Iter 4300:\tConv=  0.0000117284\tConv_errvec=      0.231697\n",
      "Iter 4400:\tConv=  0.0000101452\tConv_errvec=      0.200420\n",
      "Iter 4500:\tConv=  0.0000087757\tConv_errvec=      0.173366\n",
      "Iter 4600:\tConv=  0.0000075911\tConv_errvec=      0.149963\n",
      "Iter 4700:\tConv=  0.0000065664\tConv_errvec=      0.129720\n",
      "Iter 4800:\tConv=  0.0000056800\tConv_errvec=      0.112209\n",
      "Iter 4900:\tConv=  0.0000049132\tConv_errvec=      0.097062\n",
      "Iter 5000:\tConv=  0.0000042500\tConv_errvec=      0.083960\n",
      "Iter 5100:\tConv=  0.0000036763\tConv_errvec=      0.072626\n",
      "Iter 5200:\tConv=  0.0000031800\tConv_errvec=      0.062822\n",
      "Iter 5300:\tConv=  0.0000027508\tConv_errvec=      0.054342\n",
      "Iter 5400:\tConv=  0.0000023794\tConv_errvec=      0.047006\n",
      "Iter 5500:\tConv=  0.0000020582\tConv_errvec=      0.040661\n",
      "Iter 5600:\tConv=  0.0000017804\tConv_errvec=      0.035172\n",
      "Iter 5700:\tConv=  0.0000015401\tConv_errvec=      0.030424\n",
      "Iter 5800:\tConv=  0.0000013322\tConv_errvec=      0.026317\n",
      "Iter 5900:\tConv=  0.0000011523\tConv_errvec=      0.022765\n",
      "========================================================================\n",
      "Converged after 5998 iterations!\n",
      "Max error vector:       0.019749\n",
      "========================================================================\n"
     ]
    }
   ],
   "source": [
    "\n",
    "exp_U, frames_per_traj = mbar.build_boltzmann(\n",
    "    traj_list=trajs,\n",
    "    meta_f=meta_f,\n",
    "    equil_temp=450.0,\n",
    ")\n",
    "#print(len(exp_U))\n",
    "\n",
    "weights = mbar.run_mbar(\n",
    "    exp_U,\n",
    "    frames_per_traj,\n",
    "    outfreq=100,\n",
    "    conv=1.0e-6,\n",
    "    conv_errvec=None,\n",
    "    max_iter=int(1e6),\n",
    "    device=device,\n",
    ")"
   ]
  },
  {
   "cell_type": "code",
   "execution_count": 26,
   "id": "fc312c91",
   "metadata": {},
   "outputs": [
    {
     "name": "stdout",
     "output_type": "stream",
     "text": [
      "(2193462,)\n"
     ]
    }
   ],
   "source": [
    "print(weights.shape)"
   ]
  },
  {
   "cell_type": "code",
   "execution_count": 27,
   "id": "19e7ddca",
   "metadata": {},
   "outputs": [],
   "source": [
    "# grid for PMF\n",
    "minimum = all_frames.min()\n",
    "maximum = all_frames.max()\n",
    "bin_width = dval\n",
    "grid = np.arange(minimum, maximum, bin_width)"
   ]
  },
  {
   "cell_type": "code",
   "execution_count": 28,
   "id": "84f9f3bf",
   "metadata": {},
   "outputs": [
    {
     "data": {
      "text/plain": [
       "(57,)"
      ]
     },
     "execution_count": 28,
     "metadata": {},
     "output_type": "execute_result"
    }
   ],
   "source": [
    "grid.shape"
   ]
  },
  {
   "cell_type": "code",
   "execution_count": 29,
   "id": "0747c49e",
   "metadata": {},
   "outputs": [],
   "source": [
    "pmf, rho = mbar.pmf_from_weights(grid, all_frames, weights, equil_temp=450.0) #all_frames and CV_x same"
   ]
  },
  {
   "cell_type": "code",
   "execution_count": 30,
   "id": "976db50b",
   "metadata": {},
   "outputs": [
    {
     "data": {
      "text/plain": [
       "(57,)"
      ]
     },
     "execution_count": 30,
     "metadata": {},
     "output_type": "execute_result"
    }
   ],
   "source": [
    "pmf.shape"
   ]
  },
  {
   "cell_type": "code",
   "execution_count": 31,
   "id": "ad80445b",
   "metadata": {},
   "outputs": [
    {
     "data": {
      "image/png": "[encoded data removed]",
      "text/plain": [
       "<Figure size 576x432 with 1 Axes>"
      ]
     },
     "metadata": {
      "needs_background": "light"
     },
     "output_type": "display_data"
    }
   ],
   "source": [
    "# PMF: free energy profile along CV\n",
    "fig, axs = plt.subplots(1, figsize=(8, 6))\n",
    "\n",
    "\n",
    "axs.plot(grid, pmf, linewidth=4)\n",
    "\n",
    "axs.tick_params(axis='y', length=8, width=4,\n",
    "                labelsize=20, pad=10, direction='in')\n",
    "axs.tick_params(axis='x', length=8, width=4,\n",
    "                labelsize=20, pad=10, direction='in')\n",
    "\n",
    "#axs.set_xlabel(r'$z$', fontsize=20)\n",
    "axs.set_xlabel(r'$\\mathrm{z}\\ (\\mathrm{\\AA})$', fontsize=20)\n",
    "axs.set_ylabel(r'$\\mathrm{A(z)}\\ (\\mathrm{kJ}\\,\\mathrm{mol}^{-1})$', fontsize=20)\n",
    "axs.spines['bottom'].set_linewidth(3)\n",
    "axs.spines['top'].set_linewidth(3)\n",
    "axs.spines['left'].set_linewidth(3)\n",
    "axs.spines['right'].set_linewidth(3)\n",
    "\n",
    "#plt.savefig('/home/sdeep77/NeuralForceField/article_plots_167h2o_1li/pmf_167h2o_1li_color2.png', bbox_inches='tight',dpi=600)\n",
    "\n",
    "#plt.savefig('/home/sdeep77/NeuralForceField/feb24_umb_0.5ns_na/pmf_na.png', dpi=600,bbox_inches='tight')#ext_sigma=dval/1.5\n",
    "fig.tight_layout()\n",
    "plt.show()"
   ]
  },
  {
   "cell_type": "code",
   "execution_count": 32,
   "id": "c6cd1c13",
   "metadata": {},
   "outputs": [
    {
     "data": {
      "image/png": "[encoded data removed]",
      "text/plain": [
       "<Figure size 576x432 with 1 Axes>"
      ]
     },
     "metadata": {
      "needs_background": "light"
     },
     "output_type": "display_data"
    }
   ],
   "source": [
    "from scipy.ndimage import gaussian_filter1d\n",
    "# PMF: free energy profile along CV\n",
    "fig, axs = plt.subplots(1, figsize=(8, 6))\n",
    "colors = ['#0000a5', '#ac5775', '#ffaf1e'] #['#001969', '#975851', '#ffa500']\n",
    "\n",
    "smooth_pmf = gaussian_filter1d(pmf, 1.5) # choose reasonable smoothing\n",
    "smooth_pmf -= smooth_pmf.min()\n",
    "\n",
    "\n",
    "axs.plot(grid, smooth_pmf, linewidth=4, color=colors[2])\n",
    "\n",
    "axs.tick_params(axis='y', length=8, width=4,\n",
    "                labelsize=20, pad=10, direction='in')\n",
    "axs.tick_params(axis='x', length=8, width=4,\n",
    "                labelsize=20, pad=10, direction='in')\n",
    "#axs.set_xlabel(r'$z\\ (\\AA)$', fontsize=20)\n",
    "axs.set_xlabel(r'$\\mathrm{z}\\ (\\mathrm{\\AA})$', fontsize=20)\n",
    "axs.set_ylabel(r'$\\mathrm{A(z)}\\ (\\mathrm{kJ}\\,\\mathrm{mol}^{-1})$', fontsize=20)\n",
    "axs.spines['bottom'].set_linewidth(3)\n",
    "axs.spines['top'].set_linewidth(3)\n",
    "axs.spines['left'].set_linewidth(3)\n",
    "axs.spines['right'].set_linewidth(3)\n",
    "\n",
    "#plt.savefig('/home/sdeep77/NeuralForceField/article_plots_167h2o_1li/pmf_167h2o_1li_smoothened_color2.png', dpi=600,bbox_inches='tight')#ext_sigma=dval/1.5\n",
    "fig.tight_layout()\n",
    "plt.show()"
   ]
  },
  {
   "cell_type": "markdown",
   "id": "d2cb7e6f",
   "metadata": {},
   "source": [
    "### Attempting Block averaging for mean and uncertainty  \n"
   ]
  },
  {
   "cell_type": "code",
   "execution_count": 34,
   "id": "d9a4bbb7",
   "metadata": {},
   "outputs": [
    {
     "name": "stdout",
     "output_type": "stream",
     "text": [
      "Block 1: computed PMF profile with 57 bins.\n",
      "Block 2: computed PMF profile with 57 bins.\n",
      "Block 3: computed PMF profile with 57 bins.\n",
      "Block 4: computed PMF profile with 57 bins.\n",
      "Block 5: computed PMF profile with 57 bins.\n",
      "Block 6: computed PMF profile with 57 bins.\n",
      "Block 7: computed PMF profile with 57 bins.\n",
      "Block 8: computed PMF profile with 57 bins.\n",
      "Block 9: computed PMF profile with 57 bins.\n",
      "Block 10: computed PMF profile with 57 bins.\n"
     ]
    }
   ],
   "source": [
    "# Randomly shuffle the indices of all configurations\n",
    "N_configs = len(all_frames)\n",
    "indices = np.arange(N_configs)\n",
    "np.random.shuffle(indices)\n",
    "\n",
    "# Divide the indices into 10 blocks\n",
    "n_blocks = 10\n",
    "block_indices = np.array_split(indices, n_blocks)\n",
    "\n",
    "pmf_blocks = []  # To store PMF profile for each block\n",
    "\n",
    "for i, idx_block in enumerate(block_indices):\n",
    "    # Select the frames and weights corresponding to the current block\n",
    "    block_frames = all_frames[idx_block]\n",
    "    block_weights = weights[idx_block]\n",
    "    \n",
    "    # Compute the PMF for this block using your mbar function.\n",
    "    # Here, pmf_from_weights returns (pmf, rho). We only use pmf.\n",
    "    pmf_block, _ = mbar.pmf_from_weights(grid, block_frames, block_weights, equil_temp=450.0)\n",
    "    pmf_blocks.append(pmf_block)\n",
    "    print(f\"Block {i+1}: computed PMF profile with {len(pmf_block)} bins.\")\n",
    "\n",
    "# Convert list of block PMFs to an array: shape (n_blocks, n_bins)\n",
    "pmf_blocks = np.array(pmf_blocks)\n",
    "\n",
    "# Compute the mean PMF and the standard deviation across blocks at each bin\n",
    "mean_pmf = np.mean(pmf_blocks, axis=0)\n",
    "std_pmf = np.std(pmf_blocks, axis=0, ddof=1)\n",
    "stderr_pmf = std_pmf / np.sqrt(n_blocks)"
   ]
  },
  {
   "cell_type": "code",
   "execution_count": 35,
   "id": "8d448084",
   "metadata": {},
   "outputs": [
    {
     "data": {
      "text/plain": [
       "(57,)"
      ]
     },
     "execution_count": 35,
     "metadata": {},
     "output_type": "execute_result"
    }
   ],
   "source": [
    "mean_pmf.shape"
   ]
  },
  {
   "cell_type": "code",
   "execution_count": 36,
   "id": "c1bd4a7f",
   "metadata": {},
   "outputs": [
    {
     "data": {
      "text/plain": [
       "array([0.23841578, 0.07370695, 0.04349305, 0.07429524, 0.07180604,\n",
       "       0.07100817, 0.07290635, 0.02132311, 0.03084067, 0.05830564,\n",
       "       0.08268992, 0.06840518, 0.06342424, 0.07999127, 0.04742855,\n",
       "       0.05479388, 0.0584533 , 0.07411802, 0.04360375, 0.04235044,\n",
       "       0.05023218, 0.06794204, 0.03213489, 0.05213075, 0.08481032,\n",
       "       0.06964176, 0.07305576, 0.06624003, 0.10692138, 0.05565176,\n",
       "       0.05796208, 0.02889065, 0.07966842, 0.07903172, 0.06653093,\n",
       "       0.04292559, 0.02763336, 0.05350189, 0.0584941 , 0.056882  ,\n",
       "       0.0413242 , 0.02397502, 0.03202591, 0.04363424, 0.05859823,\n",
       "       0.05126919, 0.05068282, 0.05813882, 0.05538782, 0.04617941,\n",
       "       0.06038609, 0.04638915, 0.06501614, 0.07515807, 0.08792304,\n",
       "       0.08264189, 0.08688716])"
      ]
     },
     "execution_count": 36,
     "metadata": {},
     "output_type": "execute_result"
    }
   ],
   "source": [
    "std_pmf"
   ]
  },
  {
   "cell_type": "code",
   "execution_count": 37,
   "id": "cb6fe0e5",
   "metadata": {},
   "outputs": [
    {
     "data": {
      "image/png": "[encoded data removed]",
      "text/plain": [
       "<Figure size 576x432 with 1 Axes>"
      ]
     },
     "metadata": {
      "needs_background": "light"
     },
     "output_type": "display_data"
    }
   ],
   "source": [
    "from scipy.ndimage import gaussian_filter1d\n",
    "# PMF: free energy profile along CV\n",
    "fig, axs = plt.subplots(1, figsize=(8, 6))\n",
    "\n",
    "\n",
    "smooth_mean_pmf = gaussian_filter1d(mean_pmf, 1.5) # choose reasonable smoothing\n",
    "#smooth_std_pmf = gaussian_filter1d(std_pmf, 1.5) # choose reasonable smoothing\n",
    "smooth_mean_pmf -= smooth_mean_pmf.min()\n",
    "\n",
    "\n",
    "axs.plot(grid, smooth_mean_pmf, linewidth=4, color='blue', label='Mean PMF')\n",
    "axs.plot(grid, smooth_mean_pmf+std_pmf, linewidth=4, linestyle='-', color='black', alpha=0.6)\n",
    "axs.plot(grid, smooth_mean_pmf-std_pmf, linewidth=4, linestyle='-', color='black', alpha=0.6)\n",
    "# axs.fill_between(\n",
    "#     grid,\n",
    "#     smooth_mean_pmf - std_pmf,\n",
    "#     smooth_mean_pmf + std_pmf,\n",
    "#     color='blue',\n",
    "#     alpha=0.3,\n",
    "#     label='± 1 Std. Dev.'\n",
    "# )\n",
    "\n",
    "axs.tick_params(axis='y', length=8, width=4,\n",
    "                labelsize=20, pad=10, direction='in')\n",
    "axs.tick_params(axis='x', length=8, width=4,\n",
    "                labelsize=20, pad=10, direction='in')\n",
    "\n",
    "#axs.set_xlabel(r'$z\\ (\\AA)$', fontsize=20)\n",
    "axs.set_xlabel(r'$\\mathrm{z}\\ (\\mathrm{\\AA})$', fontsize=20)\n",
    "axs.set_ylabel(r'$\\mathrm{A(z)}\\ (\\mathrm{kJ}\\,\\mathrm{mol}^{-1})$', fontsize=20)\n",
    "\n",
    "axs.spines['bottom'].set_linewidth(3)\n",
    "axs.spines['top'].set_linewidth(3)\n",
    "axs.spines['left'].set_linewidth(3)\n",
    "axs.spines['right'].set_linewidth(3)\n",
    "\n",
    "\n",
    "#plt.savefig('/home/sdeep77/NeuralForceField/article_plots_0h2o_1li/pmf_mean_std_0h2o_1li.png', dpi=600,bbox_inches='tight')#ext_sigma=dval/1.5\n",
    "fig.tight_layout()\n",
    "plt.show()"
   ]
  },
  {
   "cell_type": "markdown",
   "id": "945bd846",
   "metadata": {},
   "source": [
    "### Entropy and energy profiles\n"
   ]
  },
  {
   "cell_type": "code",
   "execution_count": 38,
   "id": "30dc95bd",
   "metadata": {},
   "outputs": [],
   "source": [
    "# com_ext = trajectory of extended system file, numpy array\n",
    "# com_ext.shape = (num_frames, columns in file)\n",
    "\n",
    "Ds = utils.conditional_average(grid, \n",
    "                               all_frames[:], \n",
    "                               np.abs(com_ext[:][:, 8])/(com_ext[:][:, 3]*com_ext[:][:, 7]),\n",
    "                               weights)\n",
    "D = utils.conditional_average(grid, \n",
    "                              all_frames[:], \n",
    "                              np.abs(com_ext[:][:, 8]),\n",
    "                              weights)\n",
    "mxi_inv = utils.conditional_average(grid, \n",
    "                              all_frames[:], \n",
    "                              com_ext[:][:, 6],\n",
    "                              weights)\n",
    "\n",
    "mxi_inv_sqrt = utils.conditional_average(grid, \n",
    "                              all_frames[:], \n",
    "                              np.sqrt(com_ext[:][:, 6]),\n",
    "                              weights)\n",
    "\n",
    "U_mxi_sqrt = utils.conditional_average(grid, \n",
    "                              all_frames[:], \n",
    "                              np.sqrt(com_ext[:][:, 6])*com_ext[:][:, 2]*96.48531, # conversion of eV to kJ/mol\n",
    "                              weights)"
   ]
  },
  {
   "cell_type": "code",
   "execution_count": 39,
   "id": "4629d375",
   "metadata": {},
   "outputs": [
    {
     "data": {
      "text/plain": [
       "0"
      ]
     },
     "execution_count": 39,
     "metadata": {},
     "output_type": "execute_result"
    }
   ],
   "source": [
    "np.isnan(weights).sum()"
   ]
  },
  {
   "cell_type": "code",
   "execution_count": 40,
   "id": "0e7bbea8",
   "metadata": {},
   "outputs": [
    {
     "data": {
      "text/plain": [
       "(2193462, 9)"
      ]
     },
     "execution_count": 40,
     "metadata": {},
     "output_type": "execute_result"
    }
   ],
   "source": [
    "com_ext.shape"
   ]
  },
  {
   "cell_type": "code",
   "execution_count": 41,
   "id": "bd7e415a",
   "metadata": {},
   "outputs": [
    {
     "data": {
      "image/png": "[encoded data removed]",
      "text/plain": [
       "<Figure size 504x360 with 1 Axes>"
      ]
     },
     "metadata": {
      "needs_background": "light"
     },
     "output_type": "display_data"
    }
   ],
   "source": [
    "fig, ax = plt.subplots(1, figsize=(7,5), sharex=True)\n",
    "\n",
    "ax.plot(grid, D[0], \n",
    "        linewidth=3)\n",
    "\n",
    "ax.set_xlabel(r'$z$ / \\AA', fontsize=28)\n",
    "ax.set_ylabel(r'$D(z)$ ', fontsize=28)\n",
    "\n",
    "ax.tick_params(axis='y',length=6,width=3,labelsize=25, pad=10, direction='in')\n",
    "ax.tick_params(axis='x',length=6,width=3,labelsize=25, pad=10, direction='in')\n",
    "ax.spines['bottom'].set_linewidth(3)\n",
    "ax.spines['top'].set_linewidth(3)\n",
    "ax.spines['left'].set_linewidth(3)\n",
    "ax.spines['right'].set_linewidth(3)\n",
    "\n",
    "plt.tight_layout()\n",
    "#plt.savefig(f\"{name}_D.png\", dpi=400)\n",
    "plt.show()"
   ]
  },
  {
   "cell_type": "code",
   "execution_count": null,
   "id": "62ac330f",
   "metadata": {},
   "outputs": [],
   "source": []
  },
  {
   "cell_type": "code",
   "execution_count": 42,
   "id": "6ab79662",
   "metadata": {},
   "outputs": [
    {
     "data": {
      "image/png": "[encoded data removed]",
      "text/plain": [
       "<Figure size 504x360 with 1 Axes>"
      ]
     },
     "metadata": {
      "needs_background": "light"
     },
     "output_type": "display_data"
    }
   ],
   "source": [
    "#in principle, this should be a  straight line..in our case..its a small change in the order of 0.001\n",
    "fig, ax = plt.subplots(1, figsize=(7,5), sharex=True)\n",
    "\n",
    "ax.plot(grid, mxi_inv[0], \n",
    "        linewidth=3)\n",
    "\n",
    "ax.set_xlabel(r'$z$ / \\AA', fontsize=28)\n",
    "ax.set_ylabel(r'$<m_\\xi^{-1}>_z$ ', fontsize=28)\n",
    "\n",
    "ax.tick_params(axis='y',length=6,width=3,labelsize=25, pad=10, direction='in')\n",
    "ax.tick_params(axis='x',length=6,width=3,labelsize=25, pad=10, direction='in')\n",
    "ax.spines['bottom'].set_linewidth(3)\n",
    "ax.spines['top'].set_linewidth(3)\n",
    "ax.spines['left'].set_linewidth(3)\n",
    "ax.spines['right'].set_linewidth(3)\n",
    "\n",
    "plt.tight_layout()\n",
    "#plt.savefig(f\"{name}_mxi_inv.png\", dpi=400)\n",
    "plt.show()"
   ]
  },
  {
   "cell_type": "code",
   "execution_count": 43,
   "id": "bc7d2966",
   "metadata": {},
   "outputs": [
    {
     "data": {
      "text/plain": [
       "masked_array(data=[38.286347621709886, 33.354371908345726,\n",
       "                   29.798172749119463, 29.324512795346642,\n",
       "                   29.163856420787276, 26.344736972421526,\n",
       "                   22.665333492195877, 18.65616371933391,\n",
       "                   15.748641219127144, 16.246535247477045,\n",
       "                   18.78477737672744, 20.596169018885448,\n",
       "                   19.359085659811328, 16.863915421864984,\n",
       "                   15.816473278338124, 16.92340834328681,\n",
       "                   19.300492144681733, 20.33285048356988,\n",
       "                   18.197598807448433, 15.829145456812194,\n",
       "                   14.179992037245169, 14.322017704003517,\n",
       "                   16.099071213407832, 18.592606998099846,\n",
       "                   20.61722857505923, 22.180544052986146,\n",
       "                   25.433643743313933, 29.98955733539271,\n",
       "                   31.84069901803511, 27.035915979852863,\n",
       "                   22.912978115414273, 18.980304034351583,\n",
       "                   14.422494386657002, 9.50755770100039,\n",
       "                   6.150634369860566, 4.519322846963811, 4.5491435637165,\n",
       "                   6.217883045361474, 8.136418687817596,\n",
       "                   8.640880620858255, 7.672646490752475,\n",
       "                   5.9922982096075454, 5.077343885905021,\n",
       "                   6.220282991625659, 8.19800706461181, 8.325752903570624,\n",
       "                   6.257196678146625, 4.453351912078489,\n",
       "                   3.729615694604079, 4.088657064950181,\n",
       "                   6.434226021968904, 10.175852659802903,\n",
       "                   13.334267016143997, 16.156252531069853,\n",
       "                   18.823053026826102, 18.473503921067227,\n",
       "                   17.802580690752027],\n",
       "             mask=[False, False, False, False, False, False, False, False,\n",
       "                   False, False, False, False, False, False, False, False,\n",
       "                   False, False, False, False, False, False, False, False,\n",
       "                   False, False, False, False, False, False, False, False,\n",
       "                   False, False, False, False, False, False, False, False,\n",
       "                   False, False, False, False, False, False, False, False,\n",
       "                   False, False, False, False, False, False, False, False,\n",
       "                   False],\n",
       "       fill_value=1e+20)"
      ]
     },
     "execution_count": 43,
     "metadata": {},
     "output_type": "execute_result"
    }
   ],
   "source": [
    "pmf"
   ]
  },
  {
   "cell_type": "code",
   "execution_count": 46,
   "id": "d057544c",
   "metadata": {},
   "outputs": [],
   "source": [
    "T = 450.0 #make you sure you are putting in here the right temperature\n",
    "\n",
    "\n",
    "lambda_xi = np.sqrt(units.h_in_SI * units.h_in_SI * mxi_inv[0] / \n",
    "                    (2.0 * np.pi * units.atomic_to_kg * units.kB_in_SI * T)\n",
    "                   )\n",
    "\n",
    "lambda_xi *= 1e10 # from A to m\n",
    "\n",
    "\n",
    "\n",
    "F_z = - 8.314 * T / 1000.0 * np.log(rho * lambda_xi)\n",
    "F_z -= F_z.min()\n",
    "E_z = U_mxi_sqrt[0] / mxi_inv_sqrt[0]\n",
    "E_z -= E_z.min()\n",
    "TS_z = E_z - F_z"
   ]
  },
  {
   "cell_type": "code",
   "execution_count": 47,
   "id": "b955d883",
   "metadata": {},
   "outputs": [
    {
     "data": {
      "text/plain": [
       "array([35.21334274, 38.23758434, 39.85454229, 57.84370409, 87.58234084,\n",
       "       74.56264418, 44.44105957, 14.42640293,  0.        ,  7.26821382,\n",
       "       24.24549209, 50.68492798, 48.7693499 , 27.4000746 , 19.05566027,\n",
       "       35.74433699, 62.3604369 , 70.15235496, 35.24129593, 29.45122925,\n",
       "       29.2729526 , 33.60789373, 73.51708355, 78.12147165, 44.70225026,\n",
       "       22.4261431 , 22.19313414, 35.26494873, 50.54970288, 69.11351589,\n",
       "       67.66521775, 58.03537942, 52.72062907, 42.56120809, 48.68291491,\n",
       "       38.20175645, 19.27473095, 12.41044929, 14.43521867, 25.53031674,\n",
       "       35.2110514 , 44.39221278, 42.14494263, 37.61659657, 34.52697288,\n",
       "       42.87053632, 37.55131932, 27.5511434 , 26.84549466, 41.56616159,\n",
       "       51.83547681, 38.26786424, 26.45088015, 24.8288422 , 31.79153154,\n",
       "       43.07994492, 42.94407336])"
      ]
     },
     "execution_count": 47,
     "metadata": {},
     "output_type": "execute_result"
    }
   ],
   "source": [
    "E_z"
   ]
  },
  {
   "cell_type": "code",
   "execution_count": 48,
   "id": "984949bf",
   "metadata": {},
   "outputs": [
    {
     "data": {
      "image/png": "[encoded data removed]",
      "text/plain": [
       "<Figure size 504x360 with 1 Axes>"
      ]
     },
     "metadata": {
      "needs_background": "light"
     },
     "output_type": "display_data"
    }
   ],
   "source": [
    "colors = ['#0000a5', '#ac5775', '#ffaf1e'] #['#001969', '#975851', '#ffa500']\n",
    "from scipy.ndimage import gaussian_filter1d\n",
    "\n",
    "fig, ax = plt.subplots(1, figsize=(7,5), sharex=True)\n",
    "\n",
    "smooth_Ez = gaussian_filter1d(E_z, 1.5) # choose reasonable smoothing\n",
    "smooth_Ez -= smooth_Ez.min()\n",
    "\n",
    "smooth_Fz = gaussian_filter1d(F_z, 1.5) # choose reasonable smoothing\n",
    "smooth_Fz -= smooth_Fz.min()\n",
    "\n",
    "ax.plot(grid, smooth_Fz, \n",
    "        linewidth=3, label=r\"$F(z)$\", color=colors[0])\n",
    "ax.plot(grid, smooth_Ez, \n",
    "        linewidth=3, label=r\"$E(z)$\", color=colors[1])\n",
    "ax.plot(grid, -(smooth_Ez - smooth_Fz), \n",
    "        linewidth=3, label=r\"$-TS(z)$\", color=colors[2])\n",
    "\n",
    "\n",
    "ax.set_xlabel(r'$\\mathrm{z} (\\mathrm{\\AA})$', fontsize=20)\n",
    "#ax.set_xlabel(r'$\\mathrm{CV}\\ (\\mathrm{\\AA})$', fontsize=20)\n",
    "ax.set_ylabel(r'$\\mathrm{Energy}\\ (\\mathrm{kJ}\\,\\mathrm{mol}^{-1})$', fontsize=20)\n",
    "\n",
    "ax.tick_params(axis='y',length=8,width=4,labelsize=20, pad=10, direction='in')\n",
    "ax.tick_params(axis='x',length=8,width=4,labelsize=20, pad=10, direction='in')\n",
    "ax.set_xticks([-7.5,-5.0,-2.5,0.0,2.5,5.0,7.5])\n",
    "#ax.set_yticks([-30,-25,-20,-15,-10,-5, 0,5,10,15,20,25,30])\n",
    "ax.spines['bottom'].set_linewidth(3)\n",
    "ax.spines['top'].set_linewidth(3)\n",
    "ax.spines['left'].set_linewidth(3)\n",
    "ax.spines['right'].set_linewidth(3)\n",
    "\n",
    "plt.tight_layout()\n",
    "plt.legend(frameon=False, loc=1, fontsize=15)\n",
    "#plt.savefig(f\"F_E_TS.png\", dpi=400)\n",
    "#plt.savefig('/home/sdeep77/NeuralForceField/article_plots_0h2o_1li/entropy_energy_smoothened_0h2o_1li.png')\n",
    "plt.show()"
   ]
  },
  {
   "cell_type": "code",
   "execution_count": null,
   "id": "3faad9ea",
   "metadata": {},
   "outputs": [],
   "source": []
  },
  {
   "cell_type": "markdown",
   "id": "8127e104",
   "metadata": {},
   "source": [
    "### computing energy barrier using analytical expression\n"
   ]
  },
  {
   "cell_type": "code",
   "execution_count": 49,
   "id": "056cbf35",
   "metadata": {},
   "outputs": [],
   "source": [
    "# The following two functions can be found at \n",
    "# https://github.com/ochsenfeld-lab/adaptive_sampling/blob/main/adaptive_sampling/processing_tools/utils.py\n",
    "# but they are given here explicitly for easier understanding\n",
    "\n",
    "# all calculations are done in SI units\n",
    "# - mxi_inv has the unit of [CV-unit / (Angstrom^2 * a.m.u.)],\n",
    "#   therefore the factors of atomic_to_kg and 1e10 to adjust to [CV-unit / (m^2 * kg)],\n",
    "#   then lambda has the unit of [CV-unit]\n",
    "# - rho has the unit of [CV-unit^{-1}]\n",
    "# - Hence, rho*lambda is dimensionless\n",
    "# - P(A) is a probility and therefore also dimensionless\n",
    "\n",
    "\n",
    "def reaction_freeE(\n",
    "    pmf: np.ndarray,\n",
    "    T: float = 450.0,\n",
    "    min_bin: int = 20,\n",
    "    max_bin: int = -20,\n",
    "    TS: int = None,\n",
    ") -> tuple:\n",
    "    \"\"\"calculate free energy difference\n",
    "       see: Dietschreit et al., J. Chem. Phys. 156, 114105 (2022); https://doi.org/10.1063/5.0083423\n",
    "\n",
    "    Args:\n",
    "        pmf: potential of mean force (free energy surface)\n",
    "        T: temperature\n",
    "        min_bin/max_bin: minimum/maximum bin for search of transition state\n",
    "        TS: alternatively, bin number of TS\n",
    "\n",
    "    Returns:\n",
    "        dA (float): free energy difference\n",
    "        dA_grid (np.ndarray): free energy difference on grid\n",
    "    \"\"\"\n",
    "    RT = (units.R_in_SI * T) / 1000.0\n",
    "    pmf = pmf[~np.isnan(pmf)]\n",
    "\n",
    "    if TS == None:\n",
    "        TS = np.where(pmf == np.amax(pmf[min_bin:max_bin]))[0][0]\n",
    "\n",
    "    P = np.exp(-pmf / RT)\n",
    "    P /= P.sum()\n",
    "\n",
    "    P_a = P[:TS].sum()\n",
    "    P_b = P[(TS + 1) :].sum()\n",
    "\n",
    "    dA = RT * np.log(P_a / P_b)\n",
    "    dA_grid = np.zeros(len(pmf))\n",
    "    dA_grid[TS] += dA / 2\n",
    "    dA_grid[(TS + 1) :] += dA\n",
    "    dA_approx = pmf[TS:].min() - pmf[:TS].min()\n",
    "\n",
    "    return dA, dA_grid, dA_approx\n",
    "\n",
    "\n",
    "def activation_freeE(\n",
    "    pmf: np.ndarray,\n",
    "    m_xi_inv: np.ndarray,\n",
    "    T: float = 450.0,\n",
    "    min_bin: int = 20,\n",
    "    max_bin: int = -20,\n",
    "    TS: int = None,\n",
    ") -> tuple:\n",
    "    \"\"\"calculate activation free energy\n",
    "       see: Dietschreit et al., J. Chem. Phys. XX, XXX (2022); https://doi.org/XXXX\n",
    "\n",
    "    Args:\n",
    "        pmf: potential of mean force (free energy surface)\n",
    "        m_xi_inv: z-conditioned average of inverse mass associates with CV, expected units are xi^2/(au_mass * angstrom^2)\n",
    "        T: temperature\n",
    "        min_bin/max_bin: minimum/maximum bin for search of transition state\n",
    "        TS: alternatively, bin number of TS\n",
    "\n",
    "    Returns:\n",
    "        dA (float): free energy difference\n",
    "        dA_grid (np.ndarray): free energy difference on grid\n",
    "    \"\"\"\n",
    "    RT = (units.R_in_SI * T) / 1000.0  # kJ/mol\n",
    "\n",
    "    pmf = pmf[~np.isnan(pmf)]\n",
    "    if TS == None:\n",
    "        TS = np.where(pmf == np.amax(pmf[min_bin:max_bin]))[0][0]\n",
    "\n",
    "    rho = np.exp(-pmf / RT)\n",
    "    P = rho / rho.sum()  # normalize so that P_a + P_b = 1.0\n",
    "\n",
    "    #lambda_xi has already been computed before at beginning of grid\n",
    "    # lambda_xi = np.sqrt(\n",
    "    #     (units.h_in_SI * units.h_in_SI * m_xi_inv[TS]) / (2.0 * np.pi * atomic_to_kg * units.kB_in_SI * T)\n",
    "    # )#m_xi_inv[TS] only has 2 array entries (of size 57 each)\n",
    "    # lambda_xi *= 1e10 # to adjust from Angstrom to meter\n",
    "\n",
    "    P_a = P[:TS].sum()\n",
    "    P_b = P[(TS + 1) :].sum()\n",
    "\n",
    "    dA_a2b = -RT * np.log((rho[TS] * lambda_xi) / P_a)\n",
    "    dA_b2a = -RT * np.log((rho[TS] * lambda_xi) / P_b)\n",
    "    dA_a2b_approx = pmf[TS] - pmf[:TS].min()\n",
    "    dA_b2a_approx = pmf[TS] - pmf[TS:].min()\n",
    "\n",
    "    return dA_a2b, dA_b2a, dA_a2b_approx, dA_b2a_approx"
   ]
  },
  {
   "cell_type": "code",
   "execution_count": 50,
   "id": "d7c3aee4",
   "metadata": {},
   "outputs": [
    {
     "data": {
      "text/plain": [
       "-0.0049000000000001265"
      ]
     },
     "execution_count": 50,
     "metadata": {},
     "output_type": "execute_result"
    }
   ],
   "source": [
    "grid[28] #already computed before during PMF estimation, TS in this case occurs roughly at z=0"
   ]
  },
  {
   "cell_type": "code",
   "execution_count": 52,
   "id": "21e46154",
   "metadata": {},
   "outputs": [],
   "source": [
    "DeltaA, DeltaA_grid, DeltaA_approx = reaction_freeE(smooth_pmf, T = 450.0,TS=28)\n",
    "DAact_forw, DAact_backw, DAact_forw_approx, DAact_backw_approx = activation_freeE(smooth_pmf, mxi_inv, T = 450.0,TS=28)"
   ]
  },
  {
   "cell_type": "code",
   "execution_count": 53,
   "id": "dd5b98ed",
   "metadata": {},
   "outputs": [
    {
     "data": {
      "text/plain": [
       "(57,)"
      ]
     },
     "execution_count": 53,
     "metadata": {},
     "output_type": "execute_result"
    }
   ],
   "source": [
    "mxi_inv[0].shape\n"
   ]
  },
  {
   "cell_type": "code",
   "execution_count": 54,
   "id": "34a422e0",
   "metadata": {},
   "outputs": [
    {
     "name": "stdout",
     "output_type": "stream",
     "text": [
      "The reaction free energy is: -11.1 kJ/mol.\n",
      "The difference between the minima on the PMF is: -10.6 kJ/mol.\n",
      "\n",
      "The forward reaction activation free energy (kJ/mol) is:[15.65804793 15.66076568 15.66147174 15.66132278 15.65944491 15.65797421\n",
      " 15.65696008 15.65894583 15.66073552 15.65917541 15.65877816 15.65876624\n",
      " 15.65649684 15.65627514 15.65686754 15.65714734 15.65727906 15.65635507\n",
      " 15.65682105 15.65873274 15.65871089 15.6581466  15.65714537 15.65648497\n",
      " 15.65726559 15.65772552 15.65926906 15.66166714 15.66366367 15.66340224\n",
      " 15.6619918  15.66035412 15.65994898 15.6601345  15.65991589 15.66050448\n",
      " 15.66112204 15.66086267 15.65923651 15.65847655 15.65902006 15.65929326\n",
      " 15.65827518 15.65750952 15.65750872 15.65875264 15.65972601 15.6593871\n",
      " 15.66106667 15.66157877 15.66025818 15.66130302 15.66221927 15.66245259\n",
      " 15.66352969 15.66310115 15.66133869]\n",
      "The difference between the maximum and left minimum on the PMF is: 12.0 kJ/mol.\n",
      "\n",
      "The backward  reaction activation free energy (kJ/mol)is: [26.7522628  26.75498055 26.75568661 26.75553765 26.75365977 26.75218908\n",
      " 26.75117495 26.7531607  26.75495039 26.75339028 26.75299303 26.75298111\n",
      " 26.75071171 26.75049001 26.7510824  26.7513622  26.75149392 26.75056994\n",
      " 26.75103592 26.75294761 26.75292575 26.75236147 26.75136024 26.75069984\n",
      " 26.75148045 26.75194039 26.75348393 26.75588201 26.75787854 26.75761711\n",
      " 26.75620666 26.75456898 26.75416385 26.75434937 26.75413076 26.75471934\n",
      " 26.75533691 26.75507754 26.75345138 26.75269142 26.75323493 26.75350813\n",
      " 26.75249005 26.75172438 26.75172358 26.75296751 26.75394088 26.75360197\n",
      " 26.75528154 26.75579364 26.75447304 26.75551789 26.75643414 26.75666745\n",
      " 26.75774455 26.75731602 26.75555356]\n",
      "The difference between the maximum and right minimum on the PMF is: 22.6 kJ/mol.\n"
     ]
    }
   ],
   "source": [
    "print(f\"The reaction free energy is: {DeltaA:2.1f} kJ/mol.\")\n",
    "print(f\"The difference between the minima on the PMF is: {DeltaA_approx:2.1f} kJ/mol.\")\n",
    "\n",
    "print(f\"\\nThe forward reaction activation free energy (kJ/mol) is:{DAact_forw}\")\n",
    "print(f\"The difference between the maximum and left minimum on the PMF is: {DAact_forw_approx:3.1f} kJ/mol.\")\n",
    "\n",
    "print(f\"\\nThe backward  reaction activation free energy (kJ/mol)is: {DAact_backw}\")\n",
    "print(f\"The difference between the maximum and right minimum on the PMF is: {DAact_backw_approx:3.1f} kJ/mol.\")"
   ]
  },
  {
   "cell_type": "code",
   "execution_count": null,
   "id": "19d29469",
   "metadata": {},
   "outputs": [],
   "source": []
  }
 ],
 "metadata": {
  "kernelspec": {
   "display_name": "nff",
   "language": "python",
   "name": "python3"
  },
  "language_info": {
   "codemirror_mode": {
    "name": "ipython",
    "version": 3
   },
   "file_extension": ".py",
   "mimetype": "text/x-python",
   "name": "python",
   "nbconvert_exporter": "python",
   "pygments_lexer": "ipython3",
   "version": "3.9.19"
  }
 },
 "nbformat": 4,
 "nbformat_minor": 5
}
