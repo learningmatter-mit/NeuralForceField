{
 "cells": [
  {
   "cell_type": "code",
   "execution_count": 11,
   "metadata": {},
   "outputs": [
    {
     "name": "stdout",
     "output_type": "stream",
     "text": [
      "The autoreload extension is already loaded. To reload it, use:\n",
      "  %reload_ext autoreload\n"
     ]
    }
   ],
   "source": [
    "%load_ext autoreload\n",
    "%autoreload 2\n",
    "\n",
    "import sys\n",
    "\n",
    "sys.path.insert(0, \"..\")\n",
    "sys.path.insert(0, \"../..\")"
   ]
  },
  {
   "cell_type": "markdown",
   "metadata": {},
   "source": [
    "# PaiNN \n",
    "This tutorial gives an example of implementing the [equivariant PaiNN architecture](https://arxiv.org/pdf/2102.03150.pdf)"
   ]
  },
  {
   "cell_type": "markdown",
   "metadata": {},
   "source": [
    "First we import dependencies for the tutorial:"
   ]
  },
  {
   "cell_type": "code",
   "execution_count": 12,
   "metadata": {
    "scrolled": true
   },
   "outputs": [],
   "source": [
    "import copy\n",
    "import os\n",
    "import shutil\n",
    "\n",
    "import matplotlib.pyplot as plt\n",
    "import numpy as np\n",
    "import torch\n",
    "from torch.optim import Adam\n",
    "from torch.utils.data import DataLoader\n",
    "from torch.utils.data.sampler import RandomSampler\n",
    "\n",
    "from nff.data import Dataset, collate_dicts, split_train_validation_test\n",
    "from nff.train import Trainer, evaluate, get_model, hooks, loss, metrics"
   ]
  },
  {
   "cell_type": "markdown",
   "metadata": {},
   "source": [
    "First we make a directory for our work and load the ethanol dataset:"
   ]
  },
  {
   "cell_type": "code",
   "execution_count": 13,
   "metadata": {},
   "outputs": [],
   "source": [
    "DEVICE = 0\n",
    "OUTDIR = \"./sandbox_painn\"\n",
    "# batch size used in the original paper\n",
    "BATCH_SIZE = 10\n",
    "\n",
    "if os.path.exists(OUTDIR):\n",
    "    newpath = os.path.join(os.path.dirname(OUTDIR), \"backup\")\n",
    "    if os.path.exists(newpath):\n",
    "        shutil.rmtree(newpath)\n",
    "\n",
    "    shutil.move(OUTDIR, newpath)\n",
    "\n",
    "# ethanol data\n",
    "dataset = Dataset.from_file(\"data/dataset.pth.tar\")\n",
    "train, val, test = split_train_validation_test(dataset, val_size=0.2, test_size=0.2, seed=0)"
   ]
  },
  {
   "cell_type": "markdown",
   "metadata": {},
   "source": [
    "Now we make the model. Note that we can use the mean and standard deviation of the energy in the training set to scale the outputs of the model:"
   ]
  },
  {
   "cell_type": "code",
   "execution_count": 14,
   "metadata": {},
   "outputs": [],
   "source": [
    "modelparams = {\n",
    "    \"feat_dim\": 128,\n",
    "    \"activation\": \"swish\",\n",
    "    \"n_rbf\": 20,\n",
    "    \"cutoff\": 5.0,\n",
    "    \"num_conv\": 3,\n",
    "    \"output_keys\": [\"energy\"],\n",
    "    \"grad_keys\": [\"energy_grad\"],\n",
    "    # whether to sum outputs from all blocks in the model\n",
    "    # or just the final output block. False in the original\n",
    "    # implementation\n",
    "    \"skip_connection\": {\"energy\": False},\n",
    "    # Whether the k parameters in the Bessel basis functions\n",
    "    # are learnable. False originally\n",
    "    \"learnable_k\": False,\n",
    "    # dropout rate in the convolution layers, originally 0\n",
    "    \"conv_dropout\": 0.0,\n",
    "    # dropout rate in the readout layers, originally 0\n",
    "    \"readout_dropout\": 0.0,\n",
    "    # dictionary of means to add to each output key\n",
    "    # (this is optional - if you don't supply it then\n",
    "    # nothing will be added)\n",
    "    \"means\": {\"energy\": train.props[\"energy\"].mean().item()},\n",
    "    # dictionary of standard devations with which to\n",
    "    # multiply each output key\n",
    "    # (this is optional - if you don't supply it then\n",
    "    # nothing will be multiplied)\n",
    "    \"stddevs\": {\"energy\": train.props[\"energy\"].std().item()},\n",
    "}\n",
    "model = get_model(modelparams, model_type=\"Painn\")\n",
    "\n",
    "# untrained model to test for equivariant/invariant outputs\n",
    "original_model = copy.deepcopy(model)"
   ]
  },
  {
   "cell_type": "markdown",
   "metadata": {},
   "source": [
    "Next we make the training splits, loaders, and trainer\n",
    "- Remember to use a random sampler for the train loader, because that makes a big difference in the results (at least for small datasets)"
   ]
  },
  {
   "cell_type": "code",
   "execution_count": 15,
   "metadata": {},
   "outputs": [
    {
     "name": "stdout",
     "output_type": "stream",
     "text": [
      "Train size: 600, Val size: 200, Test size: 200\n"
     ]
    }
   ],
   "source": [
    "train_loader = DataLoader(train, batch_size=BATCH_SIZE, collate_fn=collate_dicts, sampler=RandomSampler(train))\n",
    "\n",
    "val_loader = DataLoader(val, batch_size=BATCH_SIZE, collate_fn=collate_dicts)\n",
    "test_loader = DataLoader(test, batch_size=BATCH_SIZE, collate_fn=collate_dicts)\n",
    "\n",
    "print(f\"Train size: {len(train)}, Val size: {len(val)}, Test size: {len(test)}\")"
   ]
  },
  {
   "cell_type": "code",
   "execution_count": 16,
   "metadata": {},
   "outputs": [],
   "source": [
    "# loss trade-off used in the original paper\n",
    "loss_fn = loss.build_mse_loss(loss_coef={\"energy_grad\": 0.95, \"energy\": 0.05})\n",
    "\n",
    "trainable_params = filter(lambda p: p.requires_grad, model.parameters())\n",
    "\n",
    "# learning rate used in the original paper\n",
    "optimizer = Adam(trainable_params, lr=1e-3)\n",
    "\n",
    "train_metrics = [metrics.MeanAbsoluteError(\"energy\"), metrics.MeanAbsoluteError(\"energy_grad\")]\n",
    "\n",
    "train_hooks = [\n",
    "    hooks.MaxEpochHook(100),\n",
    "    hooks.CSVHook(\n",
    "        OUTDIR,\n",
    "        metrics=train_metrics,\n",
    "    ),\n",
    "    hooks.PrintingHook(OUTDIR, metrics=train_metrics, separator=\" | \", time_strf=\"%M:%S\"),\n",
    "    hooks.ReduceLROnPlateauHook(\n",
    "        optimizer=optimizer,\n",
    "        # patience in the original paper\n",
    "        patience=50,\n",
    "        factor=0.5,\n",
    "        min_lr=1e-7,\n",
    "        window_length=1,\n",
    "        stop_after_min=True,\n",
    "    ),\n",
    "]\n",
    "\n",
    "T = Trainer(\n",
    "    model_path=OUTDIR,\n",
    "    model=model,\n",
    "    loss_fn=loss_fn,\n",
    "    optimizer=optimizer,\n",
    "    train_loader=train_loader,\n",
    "    validation_loader=val_loader,\n",
    "    checkpoint_interval=1,\n",
    "    hooks=train_hooks,\n",
    "    mini_batches=1,\n",
    ")\n"
   ]
  },
  {
   "cell_type": "markdown",
   "metadata": {},
   "source": [
    "Now we train and see the results!"
   ]
  },
  {
   "cell_type": "code",
   "execution_count": 17,
   "metadata": {
    "scrolled": true
   },
   "outputs": [
    {
     "name": "stdout",
     "output_type": "stream",
     "text": [
      " Time | Epoch | Learning rate | Train loss | Validation loss | MAE_energy | MAE_energy_grad | GPU Memory (MB)\n"
     ]
    },
    {
     "name": "stderr",
     "output_type": "stream",
     "text": [
      " 98%|█████████▊| 59/60 [00:03<00:00, 16.46it/s]\n"
     ]
    },
    {
     "name": "stdout",
     "output_type": "stream",
     "text": [
      "50:30 |     1 |     1.000e-03 |   110.7580 |         31.5624 |     3.1475 |          4.1004 |              69\n"
     ]
    },
    {
     "name": "stderr",
     "output_type": "stream",
     "text": [
      " 98%|█████████▊| 59/60 [00:03<00:00, 17.32it/s]\n"
     ]
    },
    {
     "name": "stdout",
     "output_type": "stream",
     "text": [
      "50:34 |     2 |     1.000e-03 |    30.6796 |         19.6061 |     0.9635 |          3.2696 |              69\n"
     ]
    },
    {
     "name": "stderr",
     "output_type": "stream",
     "text": [
      " 98%|█████████▊| 59/60 [00:03<00:00, 19.33it/s]\n"
     ]
    },
    {
     "name": "stdout",
     "output_type": "stream",
     "text": [
      "50:37 |     3 |     1.000e-03 |    15.5941 |         11.3643 |     1.4004 |          2.5191 |              69\n"
     ]
    },
    {
     "name": "stderr",
     "output_type": "stream",
     "text": [
      " 98%|█████████▊| 59/60 [00:03<00:00, 17.43it/s]\n"
     ]
    },
    {
     "name": "stdout",
     "output_type": "stream",
     "text": [
      "50:41 |     4 |     1.000e-03 |    11.4344 |         16.7386 |     1.1035 |          2.8575 |              69\n"
     ]
    },
    {
     "name": "stderr",
     "output_type": "stream",
     "text": [
      " 98%|█████████▊| 59/60 [00:03<00:00, 18.23it/s]\n"
     ]
    },
    {
     "name": "stdout",
     "output_type": "stream",
     "text": [
      "50:45 |     5 |     1.000e-03 |     9.8556 |          8.0142 |     1.0667 |          2.0564 |              69\n"
     ]
    },
    {
     "name": "stderr",
     "output_type": "stream",
     "text": [
      " 98%|█████████▊| 59/60 [00:03<00:00, 18.36it/s]\n"
     ]
    },
    {
     "name": "stdout",
     "output_type": "stream",
     "text": [
      "50:49 |     6 |     1.000e-03 |     8.5745 |         10.0560 |     1.8743 |          2.4166 |              69\n"
     ]
    },
    {
     "name": "stderr",
     "output_type": "stream",
     "text": [
      " 98%|█████████▊| 59/60 [00:03<00:00, 18.61it/s]\n"
     ]
    },
    {
     "name": "stdout",
     "output_type": "stream",
     "text": [
      "50:53 |     7 |     1.000e-03 |     7.4511 |         12.7270 |     0.7057 |          2.5881 |              69\n"
     ]
    },
    {
     "name": "stderr",
     "output_type": "stream",
     "text": [
      " 98%|█████████▊| 59/60 [00:03<00:00, 19.10it/s]\n"
     ]
    },
    {
     "name": "stdout",
     "output_type": "stream",
     "text": [
      "50:56 |     8 |     1.000e-03 |     5.3976 |          6.1220 |     0.6476 |          1.7761 |              69\n"
     ]
    },
    {
     "name": "stderr",
     "output_type": "stream",
     "text": [
      " 98%|█████████▊| 59/60 [00:03<00:00, 18.69it/s]\n"
     ]
    },
    {
     "name": "stdout",
     "output_type": "stream",
     "text": [
      "51:00 |     9 |     1.000e-03 |     4.6563 |          6.6589 |     2.0212 |          1.9326 |              69\n"
     ]
    },
    {
     "name": "stderr",
     "output_type": "stream",
     "text": [
      " 98%|█████████▊| 59/60 [00:02<00:00, 19.70it/s]\n"
     ]
    },
    {
     "name": "stdout",
     "output_type": "stream",
     "text": [
      "51:03 |    10 |     1.000e-03 |     5.0838 |          5.8096 |     1.1017 |          1.7294 |              69\n"
     ]
    },
    {
     "name": "stderr",
     "output_type": "stream",
     "text": [
      " 98%|█████████▊| 59/60 [00:03<00:00, 18.64it/s]\n"
     ]
    },
    {
     "name": "stdout",
     "output_type": "stream",
     "text": [
      "51:07 |    11 |     1.000e-03 |     5.1421 |          6.2653 |     0.9721 |          1.8162 |              69\n"
     ]
    },
    {
     "name": "stderr",
     "output_type": "stream",
     "text": [
      " 98%|█████████▊| 59/60 [00:03<00:00, 18.75it/s]\n"
     ]
    },
    {
     "name": "stdout",
     "output_type": "stream",
     "text": [
      "51:11 |    12 |     1.000e-03 |     4.0599 |          4.7769 |     1.6502 |          1.5684 |              69\n"
     ]
    },
    {
     "name": "stderr",
     "output_type": "stream",
     "text": [
      " 98%|█████████▊| 59/60 [00:03<00:00, 18.81it/s]\n"
     ]
    },
    {
     "name": "stdout",
     "output_type": "stream",
     "text": [
      "51:15 |    13 |     1.000e-03 |     3.4042 |          3.9380 |     0.5196 |          1.4747 |              69\n"
     ]
    },
    {
     "name": "stderr",
     "output_type": "stream",
     "text": [
      " 98%|█████████▊| 59/60 [00:02<00:00, 20.04it/s]\n"
     ]
    },
    {
     "name": "stdout",
     "output_type": "stream",
     "text": [
      "51:18 |    14 |     1.000e-03 |     3.7741 |          4.2873 |     0.5856 |          1.6022 |              69\n"
     ]
    },
    {
     "name": "stderr",
     "output_type": "stream",
     "text": [
      " 98%|█████████▊| 59/60 [00:03<00:00, 19.32it/s]\n"
     ]
    },
    {
     "name": "stdout",
     "output_type": "stream",
     "text": [
      "51:22 |    15 |     1.000e-03 |     3.4311 |          4.8614 |     0.7579 |          1.6847 |              69\n"
     ]
    },
    {
     "name": "stderr",
     "output_type": "stream",
     "text": [
      " 98%|█████████▊| 59/60 [00:03<00:00, 19.34it/s]\n"
     ]
    },
    {
     "name": "stdout",
     "output_type": "stream",
     "text": [
      "51:25 |    16 |     1.000e-03 |     3.2099 |          4.9805 |     0.4917 |          1.6278 |              69\n"
     ]
    },
    {
     "name": "stderr",
     "output_type": "stream",
     "text": [
      " 98%|█████████▊| 59/60 [00:03<00:00, 19.65it/s]\n"
     ]
    },
    {
     "name": "stdout",
     "output_type": "stream",
     "text": [
      "51:29 |    17 |     1.000e-03 |     3.4833 |          3.3089 |     0.4708 |          1.3322 |              69\n"
     ]
    },
    {
     "name": "stderr",
     "output_type": "stream",
     "text": [
      " 98%|█████████▊| 59/60 [00:03<00:00, 18.08it/s]\n"
     ]
    },
    {
     "name": "stdout",
     "output_type": "stream",
     "text": [
      "51:33 |    18 |     1.000e-03 |     4.3435 |          5.7149 |     0.6556 |          1.7918 |              69\n"
     ]
    },
    {
     "name": "stderr",
     "output_type": "stream",
     "text": [
      " 98%|█████████▊| 59/60 [00:03<00:00, 17.56it/s]\n"
     ]
    },
    {
     "name": "stdout",
     "output_type": "stream",
     "text": [
      "51:36 |    19 |     1.000e-03 |     3.6339 |          3.5976 |     0.6771 |          1.4313 |              69\n"
     ]
    },
    {
     "name": "stderr",
     "output_type": "stream",
     "text": [
      " 98%|█████████▊| 59/60 [00:03<00:00, 17.84it/s]\n"
     ]
    },
    {
     "name": "stdout",
     "output_type": "stream",
     "text": [
      "51:40 |    20 |     1.000e-03 |     3.3697 |          3.7608 |     1.6670 |          1.4036 |              69\n"
     ]
    },
    {
     "name": "stderr",
     "output_type": "stream",
     "text": [
      " 98%|█████████▊| 59/60 [00:03<00:00, 18.70it/s]\n"
     ]
    },
    {
     "name": "stdout",
     "output_type": "stream",
     "text": [
      "51:44 |    21 |     1.000e-03 |     2.1702 |          2.7389 |     0.4497 |          1.2123 |              69\n"
     ]
    },
    {
     "name": "stderr",
     "output_type": "stream",
     "text": [
      " 98%|█████████▊| 59/60 [00:03<00:00, 17.76it/s]\n"
     ]
    },
    {
     "name": "stdout",
     "output_type": "stream",
     "text": [
      "51:48 |    22 |     1.000e-03 |     1.8835 |          2.8289 |     0.5910 |          1.2445 |              69\n"
     ]
    },
    {
     "name": "stderr",
     "output_type": "stream",
     "text": [
      " 98%|█████████▊| 59/60 [00:03<00:00, 18.74it/s]\n"
     ]
    },
    {
     "name": "stdout",
     "output_type": "stream",
     "text": [
      "51:52 |    23 |     1.000e-03 |     1.7133 |          2.9738 |     0.8418 |          1.2374 |              69\n"
     ]
    },
    {
     "name": "stderr",
     "output_type": "stream",
     "text": [
      " 98%|█████████▊| 59/60 [00:03<00:00, 19.36it/s]\n"
     ]
    },
    {
     "name": "stdout",
     "output_type": "stream",
     "text": [
      "51:55 |    24 |     1.000e-03 |     2.0267 |          2.8875 |     0.4539 |          1.2507 |              69\n"
     ]
    },
    {
     "name": "stderr",
     "output_type": "stream",
     "text": [
      " 98%|█████████▊| 59/60 [00:03<00:00, 17.85it/s]\n"
     ]
    },
    {
     "name": "stdout",
     "output_type": "stream",
     "text": [
      "51:59 |    25 |     1.000e-03 |     1.7416 |          2.8406 |     0.4272 |          1.2259 |              69\n"
     ]
    },
    {
     "name": "stderr",
     "output_type": "stream",
     "text": [
      " 98%|█████████▊| 59/60 [00:03<00:00, 19.14it/s]\n"
     ]
    },
    {
     "name": "stdout",
     "output_type": "stream",
     "text": [
      "52:03 |    26 |     1.000e-03 |     1.5636 |          2.9547 |     0.7055 |          1.2769 |              69\n"
     ]
    },
    {
     "name": "stderr",
     "output_type": "stream",
     "text": [
      " 98%|█████████▊| 59/60 [00:03<00:00, 19.35it/s]\n"
     ]
    },
    {
     "name": "stdout",
     "output_type": "stream",
     "text": [
      "52:06 |    27 |     1.000e-03 |     1.7789 |          2.9703 |     0.3496 |          1.2423 |              69\n"
     ]
    },
    {
     "name": "stderr",
     "output_type": "stream",
     "text": [
      " 98%|█████████▊| 59/60 [00:02<00:00, 19.68it/s]\n"
     ]
    },
    {
     "name": "stdout",
     "output_type": "stream",
     "text": [
      "52:10 |    28 |     1.000e-03 |     1.9577 |          2.6054 |     0.5187 |          1.1848 |              69\n"
     ]
    },
    {
     "name": "stderr",
     "output_type": "stream",
     "text": [
      " 98%|█████████▊| 59/60 [00:03<00:00, 19.45it/s]\n"
     ]
    },
    {
     "name": "stdout",
     "output_type": "stream",
     "text": [
      "52:13 |    29 |     1.000e-03 |     1.7291 |          2.5917 |     0.3898 |          1.1816 |              69\n"
     ]
    },
    {
     "name": "stderr",
     "output_type": "stream",
     "text": [
      " 98%|█████████▊| 59/60 [00:03<00:00, 18.83it/s]\n"
     ]
    },
    {
     "name": "stdout",
     "output_type": "stream",
     "text": [
      "52:17 |    30 |     1.000e-03 |     1.7196 |          3.4652 |     0.4849 |          1.2908 |              69\n"
     ]
    },
    {
     "name": "stderr",
     "output_type": "stream",
     "text": [
      " 98%|█████████▊| 59/60 [00:03<00:00, 18.30it/s]\n"
     ]
    },
    {
     "name": "stdout",
     "output_type": "stream",
     "text": [
      "52:21 |    31 |     1.000e-03 |     1.9973 |          2.8381 |     0.4816 |          1.2693 |              69\n"
     ]
    },
    {
     "name": "stderr",
     "output_type": "stream",
     "text": [
      " 98%|█████████▊| 59/60 [00:03<00:00, 18.00it/s]\n"
     ]
    },
    {
     "name": "stdout",
     "output_type": "stream",
     "text": [
      "52:25 |    32 |     1.000e-03 |     1.9420 |          2.9068 |     0.5798 |          1.2096 |              69\n"
     ]
    },
    {
     "name": "stderr",
     "output_type": "stream",
     "text": [
      " 98%|█████████▊| 59/60 [00:03<00:00, 19.20it/s]\n"
     ]
    },
    {
     "name": "stdout",
     "output_type": "stream",
     "text": [
      "52:28 |    33 |     1.000e-03 |     1.4097 |          2.0852 |     0.5637 |          1.0499 |              69\n"
     ]
    },
    {
     "name": "stderr",
     "output_type": "stream",
     "text": [
      " 98%|█████████▊| 59/60 [00:03<00:00, 19.50it/s]\n"
     ]
    },
    {
     "name": "stdout",
     "output_type": "stream",
     "text": [
      "52:32 |    34 |     1.000e-03 |     1.2071 |          2.1530 |     1.0417 |          1.0477 |              69\n"
     ]
    },
    {
     "name": "stderr",
     "output_type": "stream",
     "text": [
      " 98%|█████████▊| 59/60 [00:03<00:00, 18.99it/s]\n"
     ]
    },
    {
     "name": "stdout",
     "output_type": "stream",
     "text": [
      "52:35 |    35 |     1.000e-03 |     1.4785 |          2.3529 |     0.3686 |          1.1130 |              69\n"
     ]
    },
    {
     "name": "stderr",
     "output_type": "stream",
     "text": [
      " 98%|█████████▊| 59/60 [00:02<00:00, 19.76it/s]\n"
     ]
    },
    {
     "name": "stdout",
     "output_type": "stream",
     "text": [
      "52:39 |    36 |     1.000e-03 |     1.5366 |          2.5150 |     0.4059 |          1.1523 |              69\n"
     ]
    },
    {
     "name": "stderr",
     "output_type": "stream",
     "text": [
      " 98%|█████████▊| 59/60 [00:03<00:00, 19.57it/s]\n"
     ]
    },
    {
     "name": "stdout",
     "output_type": "stream",
     "text": [
      "52:43 |    37 |     1.000e-03 |     2.0318 |          2.5561 |     0.3957 |          1.1404 |              69\n"
     ]
    },
    {
     "name": "stderr",
     "output_type": "stream",
     "text": [
      " 98%|█████████▊| 59/60 [00:03<00:00, 19.07it/s]\n"
     ]
    },
    {
     "name": "stdout",
     "output_type": "stream",
     "text": [
      "52:46 |    38 |     1.000e-03 |     2.3266 |          3.8510 |     0.6224 |          1.4455 |              69\n"
     ]
    },
    {
     "name": "stderr",
     "output_type": "stream",
     "text": [
      " 98%|█████████▊| 59/60 [00:02<00:00, 20.08it/s]\n"
     ]
    },
    {
     "name": "stdout",
     "output_type": "stream",
     "text": [
      "52:50 |    39 |     1.000e-03 |     2.3686 |          3.2251 |     0.8756 |          1.3249 |              69\n"
     ]
    },
    {
     "name": "stderr",
     "output_type": "stream",
     "text": [
      " 98%|█████████▊| 59/60 [00:02<00:00, 20.14it/s]\n"
     ]
    },
    {
     "name": "stdout",
     "output_type": "stream",
     "text": [
      "52:53 |    40 |     1.000e-03 |     2.8125 |          3.6945 |     0.5373 |          1.3899 |              69\n"
     ]
    },
    {
     "name": "stderr",
     "output_type": "stream",
     "text": [
      " 98%|█████████▊| 59/60 [00:02<00:00, 19.88it/s]\n"
     ]
    },
    {
     "name": "stdout",
     "output_type": "stream",
     "text": [
      "52:57 |    41 |     1.000e-03 |     1.8266 |          2.3555 |     0.3846 |          1.1006 |              69\n"
     ]
    },
    {
     "name": "stderr",
     "output_type": "stream",
     "text": [
      " 98%|█████████▊| 59/60 [00:03<00:00, 18.63it/s]\n"
     ]
    },
    {
     "name": "stdout",
     "output_type": "stream",
     "text": [
      "53:00 |    42 |     1.000e-03 |     1.3476 |          2.0845 |     0.2524 |          1.0270 |              69\n"
     ]
    },
    {
     "name": "stderr",
     "output_type": "stream",
     "text": [
      " 98%|█████████▊| 59/60 [00:03<00:00, 18.94it/s]\n"
     ]
    },
    {
     "name": "stdout",
     "output_type": "stream",
     "text": [
      "53:04 |    43 |     1.000e-03 |     1.4235 |          2.2135 |     0.5409 |          1.0754 |              69\n"
     ]
    },
    {
     "name": "stderr",
     "output_type": "stream",
     "text": [
      " 98%|█████████▊| 59/60 [00:03<00:00, 18.70it/s]\n"
     ]
    },
    {
     "name": "stdout",
     "output_type": "stream",
     "text": [
      "53:08 |    44 |     1.000e-03 |     1.1734 |          1.9493 |     0.2712 |          1.0105 |              69\n"
     ]
    },
    {
     "name": "stderr",
     "output_type": "stream",
     "text": [
      " 98%|█████████▊| 59/60 [00:02<00:00, 19.83it/s]\n"
     ]
    },
    {
     "name": "stdout",
     "output_type": "stream",
     "text": [
      "53:11 |    45 |     1.000e-03 |     1.4063 |          3.4789 |     0.2818 |          1.3305 |              69\n"
     ]
    },
    {
     "name": "stderr",
     "output_type": "stream",
     "text": [
      " 98%|█████████▊| 59/60 [00:02<00:00, 19.92it/s]\n"
     ]
    },
    {
     "name": "stdout",
     "output_type": "stream",
     "text": [
      "53:15 |    46 |     1.000e-03 |     1.6843 |          2.0512 |     0.3208 |          1.0741 |              69\n"
     ]
    },
    {
     "name": "stderr",
     "output_type": "stream",
     "text": [
      " 98%|█████████▊| 59/60 [00:02<00:00, 20.02it/s]\n"
     ]
    },
    {
     "name": "stdout",
     "output_type": "stream",
     "text": [
      "53:18 |    47 |     1.000e-03 |     1.2636 |          1.8560 |     0.2591 |          0.9900 |              69\n"
     ]
    },
    {
     "name": "stderr",
     "output_type": "stream",
     "text": [
      " 98%|█████████▊| 59/60 [00:02<00:00, 19.74it/s]\n"
     ]
    },
    {
     "name": "stdout",
     "output_type": "stream",
     "text": [
      "53:22 |    48 |     1.000e-03 |     1.0224 |          2.3254 |     0.2919 |          1.0523 |              69\n"
     ]
    },
    {
     "name": "stderr",
     "output_type": "stream",
     "text": [
      " 98%|█████████▊| 59/60 [00:03<00:00, 19.14it/s]\n"
     ]
    },
    {
     "name": "stdout",
     "output_type": "stream",
     "text": [
      "53:26 |    49 |     1.000e-03 |     1.0404 |          2.2871 |     0.4610 |          1.1005 |              69\n"
     ]
    },
    {
     "name": "stderr",
     "output_type": "stream",
     "text": [
      " 98%|█████████▊| 59/60 [00:03<00:00, 18.76it/s]\n"
     ]
    },
    {
     "name": "stdout",
     "output_type": "stream",
     "text": [
      "53:29 |    50 |     1.000e-03 |     1.1328 |          2.0951 |     0.3648 |          1.0869 |              69\n"
     ]
    }
   ],
   "source": [
    "T.train(device=DEVICE, n_epochs=50)"
   ]
  },
  {
   "cell_type": "markdown",
   "metadata": {},
   "source": [
    "Check that the energies are invariant to rotations and that the gradients are equivariant:"
   ]
  },
  {
   "cell_type": "code",
   "execution_count": 18,
   "metadata": {
    "scrolled": true
   },
   "outputs": [
    {
     "name": "stdout",
     "output_type": "stream",
     "text": [
      "tensor([[ 1.0000e+00, -1.4901e-08,  0.0000e+00],\n",
      "        [-1.4901e-08,  1.0000e+00,  2.9802e-08],\n",
      "        [ 0.0000e+00,  2.9802e-08,  1.0000e+00]])\n"
     ]
    }
   ],
   "source": [
    "from numpy import cos, sin\n",
    "\n",
    "\n",
    "def make_rot(alpha: float, beta: float, gamma: float):\n",
    "    \"\"\"Make a general rotation matrix from angles alpha, beta and gamma\"\"\"\n",
    "    r = torch.Tensor(\n",
    "        [\n",
    "            [\n",
    "                cos(alpha) * cos(beta),\n",
    "                cos(alpha) * sin(beta) * sin(gamma) - sin(alpha) * cos(gamma),\n",
    "                cos(alpha) * sin(beta) * cos(gamma) + sin(alpha) * sin(gamma),\n",
    "            ],\n",
    "            [\n",
    "                sin(alpha) * cos(beta),\n",
    "                sin(alpha) * sin(beta) * sin(gamma) + cos(alpha) * cos(gamma),\n",
    "                sin(alpha) * sin(beta) * cos(gamma) - cos(alpha) * sin(gamma),\n",
    "            ],\n",
    "            [-sin(beta), cos(beta) * sin(gamma), cos(beta) * cos(gamma)],\n",
    "        ]\n",
    "    )\n",
    "\n",
    "    return r\n",
    "\n",
    "\n",
    "# test that an arbitrary rotation matrix is unitary\n",
    "r = make_rot(0.2, 0.1, 0.4)\n",
    "print(torch.matmul(r, r.transpose(0, 1)))"
   ]
  },
  {
   "cell_type": "code",
   "execution_count": 19,
   "metadata": {},
   "outputs": [
    {
     "name": "stdout",
     "output_type": "stream",
     "text": [
      "27.71103859 \n",
      "tensor([[-15.5032, -11.7686,   1.3886],\n",
      "        [ 18.9493,   4.0100,   5.4599],\n",
      "        [ -0.2973,  -6.4700,   0.1940],\n",
      "        [  1.8628,   5.3357, -10.2646],\n",
      "        [  1.0089,   7.0527,   6.8500],\n",
      "        [ -9.7629,   4.9961,   0.1548],\n",
      "        [ -2.0221,  -3.7205,  -0.0251],\n",
      "        [ -0.1038,   0.2732,  -4.3324],\n",
      "        [  5.8683,   0.2914,   0.5749]], grad_fn=<StackBackward0>)\n",
      "27.71104622 \n",
      "tensor([[-15.5032, -11.7686,   1.3886],\n",
      "        [ 18.9492,   4.0100,   5.4599],\n",
      "        [ -0.2973,  -6.4700,   0.1940],\n",
      "        [  1.8628,   5.3357, -10.2646],\n",
      "        [  1.0089,   7.0526,   6.8500],\n",
      "        [ -9.7629,   4.9961,   0.1548],\n",
      "        [ -2.0221,  -3.7205,  -0.0251],\n",
      "        [ -0.1038,   0.2732,  -4.3324],\n",
      "        [  5.8683,   0.2915,   0.5749]], grad_fn=<StackBackward0>)\n"
     ]
    }
   ],
   "source": [
    "# get results for a geometry and its rotated version\n",
    "\n",
    "nxyz = train.props[\"nxyz\"][0]\n",
    "rots = [torch.diag(torch.ones(3)), make_rot(1.4, -0.5, 1.3)]\n",
    "original_model.to(DEVICE)\n",
    "\n",
    "for rot in rots:\n",
    "    xyz = torch.stack([torch.matmul(rot, i[1:]) for i in nxyz])\n",
    "    z = nxyz[:, 0].reshape(-1, 1)\n",
    "    this_nxyz = torch.cat([z, xyz], dim=-1).to(DEVICE)\n",
    "    batch = {\n",
    "        \"nxyz\": this_nxyz,\n",
    "        \"num_atoms\": torch.LongTensor([len(nxyz)]),\n",
    "        \"nbr_list\": train.props[\"nbr_list\"][0].to(DEVICE),\n",
    "    }\n",
    "    results = original_model(batch)\n",
    "    energy = results[\"energy\"].cpu()\n",
    "\n",
    "    # energies should be invariant\n",
    "    print(f\"{energy.item():.8f} \")\n",
    "\n",
    "    energy_grad = results[\"energy_grad\"].cpu()\n",
    "\n",
    "    # applying R^T to the gradients should give the same value for\n",
    "    # all geometries\n",
    "    rot_grad = torch.stack([torch.matmul(rot.transpose(0, 1), i) for i in energy_grad])\n",
    "    print(rot_grad)"
   ]
  },
  {
   "cell_type": "code",
   "execution_count": 29,
   "metadata": {
    "scrolled": false
   },
   "outputs": [
    {
     "name": "stderr",
     "output_type": "stream",
     "text": [
      "100%|██████████| 20/20 [00:01<00:00, 14.97it/s]\n"
     ]
    },
    {
     "data": {
      "image/png": "[encoded data removed]",
      "text/plain": [
       "<Figure size 600x300 with 2 Axes>"
      ]
     },
     "metadata": {},
     "output_type": "display_data"
    }
   ],
   "source": [
    "results, targets, val_loss = evaluate(T.get_best_model(), test_loader, loss_fn, device=DEVICE)\n",
    "\n",
    "units = {\"energy_grad\": r\"kcal/mol/$\\AA$\", \"energy\": \"kcal/mol\"}\n",
    "\n",
    "fig, ax_fig = plt.subplots(1, 2, figsize=(6, 3))\n",
    "\n",
    "for ax, key in zip(ax_fig, units.keys()):\n",
    "    pred_fn = torch.cat\n",
    "    targ_fn = torch.cat\n",
    "    if all(len(i.shape) == 0 for i in results[key]):\n",
    "        pred_fn = torch.stack\n",
    "    if all(len(i.shape) == 0 for i in targets[key]):\n",
    "        targ_fn = torch.stack\n",
    "\n",
    "    pred = pred_fn(results[key], dim=0).view(-1).detach().cpu().numpy()\n",
    "    targ = targ_fn(targets[key], dim=0).view(-1).detach().cpu().numpy()\n",
    "\n",
    "    mae = abs(pred - targ).mean()\n",
    "\n",
    "    ax.hexbin(pred, targ, mincnt=1, gridsize=30, cmap=\"viridis\", linewidths=0.1)\n",
    "\n",
    "    lim_min = min(np.min(pred), np.min(targ)) * 1.1\n",
    "    lim_max = max(np.max(pred), np.max(targ)) * 1.1\n",
    "\n",
    "    ax.set_xlim(lim_min, lim_max)\n",
    "    ax.set_ylim(lim_min, lim_max)\n",
    "    ax.set_aspect(\"equal\")\n",
    "\n",
    "    ax.plot((lim_min, lim_max), (lim_min, lim_max), \"k--\", zorder=-1, linewidth=1.0)\n",
    "\n",
    "    ax.set_title(key.upper(), fontsize=12)\n",
    "    ax.set_xlabel(f\"predicted {key} ({units[key]})\", fontsize=10, fontweight=\"bold\")\n",
    "    ax.set_ylabel(f\"target {key} ({units[key]})\", fontsize=10, fontweight=\"bold\")\n",
    "    ax.text(0.1, 0.9, f\"MAE: {mae:.2f} {units[key]}\", transform=ax.transAxes, fontsize=10)\n",
    "\n",
    "fig.tight_layout()\n",
    "plt.show()"
   ]
  },
  {
   "cell_type": "markdown",
   "metadata": {},
   "source": [
    "Note that PaiNN is about 30x more efficient than DimeNet (efficiency = 1 / (inference time * memory footprint)), with even better accuracy. The improved accuracy is reported in the PaiNN paper, and we have confirmed this accuracy by training our DimeNet and PaiNN implementations on aspirin in the MD17 dataset."
   ]
  }
 ],
 "metadata": {
  "kernelspec": {
   "display_name": "nff",
   "language": "python",
   "name": "python3"
  },
  "language_info": {
   "codemirror_mode": {
    "name": "ipython",
    "version": 3
   },
   "file_extension": ".py",
   "mimetype": "text/x-python",
   "name": "python",
   "nbconvert_exporter": "python",
   "pygments_lexer": "ipython3",
   "version": "3.9.18"
  }
 },
 "nbformat": 4,
 "nbformat_minor": 2
}
